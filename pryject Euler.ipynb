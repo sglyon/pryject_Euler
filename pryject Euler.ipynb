{
 "metadata": {
  "name": "pryject Euler"
 },
 "nbformat": 3,
 "nbformat_minor": 0,
 "worksheets": [
  {
   "cells": [
    {
     "cell_type": "markdown",
     "metadata": {},
     "source": [
      "# pryject_euler\n",
      "\n",
      "### Project Euler, python style"
     ]
    },
    {
     "cell_type": "markdown",
     "metadata": {},
     "source": [
      "### Some Tools"
     ]
    },
    {
     "cell_type": "code",
     "collapsed": false,
     "input": [
      "import collections\n",
      "import functools\n",
      "import numpy as np\n",
      "\n",
      "\n",
      "class Memoized(object):\n",
      "    \"\"\"\n",
      "    Decorator. Caches a function's return value each time it is called.\n",
      "    If called later with the same arguments, the cached value is returned\n",
      "    (not reevaluated).\n",
      "    \"\"\"\n",
      "    def __init__(self, func):\n",
      "        self.func = func\n",
      "        self.cache = {}\n",
      "\n",
      "    def __call__(self, *args):\n",
      "        if not isinstance(args, collections.Hashable):\n",
      "        # uncacheable. a list, for instance.\n",
      "        # better to not cache than blow up.\n",
      "            return self.func(*args)\n",
      "        for i in args:\n",
      "            if type(args == np.ndarray):\n",
      "                return self.func(*args)\n",
      "        if args in self.cache:\n",
      "            return self.cache[args]\n",
      "        else:\n",
      "            value = self.func(*args)\n",
      "            self.cache[args] = value\n",
      "            return value\n",
      "\n",
      "        def __repr__(self):\n",
      "            \"\"\"\n",
      "            Return the function's docstring.\n",
      "            \"\"\"\n",
      "            return self.func.__doc__\n",
      "\n",
      "        def __get__(self, obj, objtype):\n",
      "            \"\"\"\n",
      "            Support instance methods.\n",
      "            \"\"\"\n",
      "            return functools.partial(self.__call__, obj)"
     ],
     "language": "python",
     "metadata": {},
     "outputs": [],
     "prompt_number": 42
    },
    {
     "cell_type": "code",
     "collapsed": false,
     "input": [
      "def main1():\n",
      "    y = 0\n",
      "    for x in range(1000):\n",
      "        if x%3==0 or x%5==0:\n",
      "            y+=x\n",
      "    return y\n",
      "\n",
      "print \"The answer is: \", main1()"
     ],
     "language": "python",
     "metadata": {},
     "outputs": [
      {
       "output_type": "stream",
       "stream": "stdout",
       "text": [
        "The answer is:  233168\n"
       ]
      }
     ],
     "prompt_number": 43
    },
    {
     "cell_type": "code",
     "collapsed": false,
     "input": [
      "timeit main1()"
     ],
     "language": "python",
     "metadata": {},
     "outputs": [
      {
       "output_type": "stream",
       "stream": "stdout",
       "text": [
        "10000 loops, best of 3: 165 us per loop\n"
       ]
      }
     ],
     "prompt_number": 44
    },
    {
     "cell_type": "code",
     "collapsed": false,
     "input": [
      "def main2():\n",
      "    import numpy as np\n",
      "\n",
      "    x1 = 1\n",
      "    x2 = 2\n",
      "    vals = np.array([x1, x2])\n",
      "    \n",
      "    new_val = 3\n",
      "    i = 0\n",
      "    while new_val < 4e6:\n",
      "        new_val = vals[i] + vals[i+1]\n",
      "        vals = np.append(vals, new_val)\n",
      "        i += 1\n",
      "    \n",
      "    vals = vals[:-1]\n",
      "    ans = sum(vals[vals %2 == 0])\n",
      "    return ans\n",
      "\n",
      "print \"The answer is: \", main2()"
     ],
     "language": "python",
     "metadata": {},
     "outputs": [
      {
       "output_type": "stream",
       "stream": "stdout",
       "text": [
        "The answer is:  4613732\n"
       ]
      }
     ],
     "prompt_number": 12
    },
    {
     "cell_type": "code",
     "collapsed": false,
     "input": [
      "timeit main2()"
     ],
     "language": "python",
     "metadata": {},
     "outputs": [
      {
       "output_type": "stream",
       "stream": "stdout",
       "text": [
        "1000 loops, best of 3: 641 us per loop\n"
       ]
      }
     ],
     "prompt_number": 13
    },
    {
     "cell_type": "code",
     "collapsed": false,
     "input": [
      "def main3():\n",
      "    from sympy.ntheory import factorint\n",
      "    y = 600851475143\n",
      "    factors = factorint(y)   \n",
      "    ans = factors.keys()[0]\n",
      "    return ans\n",
      "\n",
      "print \"The answer is: \", main3()"
     ],
     "language": "python",
     "metadata": {},
     "outputs": [
      {
       "output_type": "stream",
       "stream": "stdout",
       "text": [
        "The answer is:  "
       ]
      },
      {
       "output_type": "stream",
       "stream": "stdout",
       "text": [
        "6857\n"
       ]
      }
     ],
     "prompt_number": 14
    },
    {
     "cell_type": "code",
     "collapsed": false,
     "input": [
      "timeit main3()"
     ],
     "language": "python",
     "metadata": {},
     "outputs": [
      {
       "output_type": "stream",
       "stream": "stdout",
       "text": [
        "1000 loops, best of 3: 374 us per loop\n"
       ]
      }
     ],
     "prompt_number": 15
    },
    {
     "cell_type": "code",
     "collapsed": false,
     "input": [
      "def main4():\n",
      "    biggest = 0\n",
      "\n",
      "    for i in range(100,1000):\n",
      "        for j in range(100, i):\n",
      "            t = i * j\n",
      "            if t > biggest:\n",
      "                y = str(t)\n",
      "                if y[::-1] == y:\n",
      "                    biggest = t\n",
      "    \n",
      "    return biggest\n",
      "\n",
      "print \"The answer is: \", main4()"
     ],
     "language": "python",
     "metadata": {},
     "outputs": [
      {
       "output_type": "stream",
       "stream": "stdout",
       "text": [
        "The answer is:  "
       ]
      },
      {
       "output_type": "stream",
       "stream": "stdout",
       "text": [
        "906609\n"
       ]
      }
     ],
     "prompt_number": 16
    },
    {
     "cell_type": "code",
     "collapsed": false,
     "input": [
      "timeit main4()"
     ],
     "language": "python",
     "metadata": {},
     "outputs": [
      {
       "output_type": "stream",
       "stream": "stdout",
       "text": [
        "10 loops, best of 3: 56.8 ms per loop\n"
       ]
      }
     ],
     "prompt_number": 17
    },
    {
     "cell_type": "code",
     "collapsed": false,
     "input": [
      "def main5():\n",
      "    import numpy as np\n",
      "    divisors = np.array([11, 13, 14, 16, 17, 18, 19, 20])\n",
      "    x = True\n",
      "    i = 1\n",
      "    while x:\n",
      "        test = i * 2520\n",
      "        if sum(test % divisors) == 0:\n",
      "            x = False\n",
      "        i += 1\n",
      "    return test\n",
      "\n",
      "print \"The answer is: \", main5()"
     ],
     "language": "python",
     "metadata": {},
     "outputs": [
      {
       "output_type": "stream",
       "stream": "stdout",
       "text": [
        " The answer is:  "
       ]
      },
      {
       "output_type": "stream",
       "stream": "stdout",
       "text": [
        "232792560\n"
       ]
      }
     ],
     "prompt_number": 5
    },
    {
     "cell_type": "code",
     "collapsed": false,
     "input": [
      "timeit main5()"
     ],
     "language": "python",
     "metadata": {},
     "outputs": [
      {
       "output_type": "stream",
       "stream": "stdout",
       "text": [
        "1 loops, best of 3: 1.43 s per loop\n"
       ]
      }
     ],
     "prompt_number": 6
    },
    {
     "cell_type": "code",
     "collapsed": false,
     "input": [
      "def main6():\n",
      "    n = 100\n",
      "    sumOfSquares = sum(np.arange(0,n+1,1)**2)\n",
      "    squareOfSums = sum(np.arange(0,n+1,1))**2\n",
      "    return squareOfSums- sumOfSquares\n",
      "\n",
      "print \"The answer is: \", main6()    "
     ],
     "language": "python",
     "metadata": {},
     "outputs": [
      {
       "output_type": "stream",
       "stream": "stdout",
       "text": [
        "The answer is:  25164150\n"
       ]
      }
     ],
     "prompt_number": 20
    },
    {
     "cell_type": "code",
     "collapsed": false,
     "input": [
      "timeit main6()"
     ],
     "language": "python",
     "metadata": {},
     "outputs": [
      {
       "output_type": "stream",
       "stream": "stdout",
       "text": [
        "10000 loops, best of 3: 31.5 us per loop\n"
       ]
      }
     ],
     "prompt_number": 21
    },
    {
     "cell_type": "code",
     "collapsed": false,
     "input": [
      "def main7():\n",
      "    from sympy import prime\n",
      "    return prime(10001)\n",
      "\n",
      "print \"The answer is: \", main7()"
     ],
     "language": "python",
     "metadata": {},
     "outputs": [
      {
       "output_type": "stream",
       "stream": "stdout",
       "text": [
        "The answer is:  "
       ]
      },
      {
       "output_type": "stream",
       "stream": "stdout",
       "text": [
        "104743\n"
       ]
      }
     ],
     "prompt_number": 22
    },
    {
     "cell_type": "code",
     "collapsed": false,
     "input": [
      "timeit main7()"
     ],
     "language": "python",
     "metadata": {},
     "outputs": [
      {
       "output_type": "stream",
       "stream": "stdout",
       "text": [
        "100000 loops, best of 3: 4.56 us per loop\n"
       ]
      }
     ],
     "prompt_number": 23
    },
    {
     "cell_type": "code",
     "collapsed": false,
     "input": [
      "def main8():\n",
      "    num = s = '7316717653133062491922511967442657474235534919493496983520312774506326239578318016984801869478851843858615607891129494954595017379583319528532088055111254069874715852386305071569329096329522744304355766896648950445244523161731856403098711121722383113622298934233803081353362766142828064444866452387493035890729629049156044077239071381051585930796086670172427121883998797908792274921901699720888093776657273330010533678812202354218097512545405947522435258490771167055601360483958644670632441572215539753697817977846174064955149290862569321978468622482839722413756570560574902614079729686524145351004748216637048440319989000889524345065854122758866688116427171479924442928230863465674813919123162824586178664583591245665294765456828489128831426076900422421902267105562632111110937054421750694165896040807198403850962455444362981230987879927244284909188845801561660979191338754992005240636899125607176060588611646710940507754100225698315520005593572972571636269561882670428252483600823257530420752963450'\n",
      " \n",
      "    newSum = 0\n",
      "    oldSum=1 \n",
      "    for i in range(0, len(num)-4):\n",
      "        newSum=1\n",
      "        for j in range(i,i+5):\n",
      "            newSum *= int(num[j])\n",
      "        if newSum > oldSum : oldSum = newSum\n",
      "    \n",
      "    return oldSum\n",
      "\n",
      "print \"The answer is: \", main8()"
     ],
     "language": "python",
     "metadata": {},
     "outputs": [
      {
       "output_type": "stream",
       "stream": "stdout",
       "text": [
        "The answer is:  40824\n"
       ]
      }
     ],
     "prompt_number": 24
    },
    {
     "cell_type": "code",
     "collapsed": false,
     "input": [
      "timeit main8()"
     ],
     "language": "python",
     "metadata": {},
     "outputs": [
      {
       "output_type": "stream",
       "stream": "stdout",
       "text": [
        "100 loops, best of 3: 5.09 ms per loop\n"
       ]
      }
     ],
     "prompt_number": 25
    },
    {
     "cell_type": "code",
     "collapsed": false,
     "input": [
      "def main9():\n",
      "    for a in range(0,1000):\n",
      "        for b in range(a,1000):\n",
      "            c = 1000-a  -b\n",
      "            if c > 0:\n",
      "                if c**2 == a**2 + b**2:\n",
      "                    if a*b*c != 0:\n",
      "                        return a*b*c\n",
      "                    break\n",
      "\n",
      "print \"The answer is: \", main9()"
     ],
     "language": "python",
     "metadata": {},
     "outputs": [
      {
       "output_type": "stream",
       "stream": "stdout",
       "text": [
        "The answer is:  "
       ]
      },
      {
       "output_type": "stream",
       "stream": "stdout",
       "text": [
        "31875000\n"
       ]
      }
     ],
     "prompt_number": 35
    },
    {
     "cell_type": "code",
     "collapsed": false,
     "input": [
      "timeit main9()"
     ],
     "language": "python",
     "metadata": {},
     "outputs": [
      {
       "output_type": "stream",
       "stream": "stdout",
       "text": [
        "10 loops, best of 3: 54.3 ms per loop\n"
       ]
      }
     ],
     "prompt_number": 36
    },
    {
     "cell_type": "code",
     "collapsed": false,
     "input": [
      "def main10():\n",
      "    from sympy import primerange\n",
      "    ans = sum(list(primerange(9, 2e6)))\n",
      "    return ans\n",
      "\n",
      "print \"The answer is: \", main10()"
     ],
     "language": "python",
     "metadata": {},
     "outputs": [
      {
       "output_type": "stream",
       "stream": "stdout",
       "text": [
        "The answer is:  "
       ]
      },
      {
       "output_type": "stream",
       "stream": "stdout",
       "text": [
        "142913828905\n"
       ]
      }
     ],
     "prompt_number": 37
    },
    {
     "cell_type": "code",
     "collapsed": false,
     "input": [
      "timeit main10()"
     ],
     "language": "python",
     "metadata": {},
     "outputs": [
      {
       "output_type": "stream",
       "stream": "stdout",
       "text": [
        "1 loops, best of 3: 7.11 s per loop\n"
       ]
      }
     ],
     "prompt_number": 38
    },
    {
     "cell_type": "code",
     "collapsed": false,
     "input": [
      "def main11():\n",
      "    import numpy as np\n",
      "    \n",
      "    mat = np.array([[  8.,   2.,  22.,  97.,  38.,  15.,   0.,  40.,   0.,  75.,   4.,\n",
      "              5.,   7.,  78.,  52.,  12.,  50.,  77.,  91.,   8.],\n",
      "           [ 49.,  49.,  99.,  40.,  17.,  81.,  18.,  57.,  60.,  87.,  17.,\n",
      "             40.,  98.,  43.,  69.,  48.,   4.,  56.,  62.,   0.],\n",
      "           [ 81.,  49.,  31.,  73.,  55.,  79.,  14.,  29.,  93.,  71.,  40.,\n",
      "             67.,  53.,  88.,  30.,   3.,  49.,  13.,  36.,  65.],\n",
      "           [ 52.,  70.,  95.,  23.,   4.,  60.,  11.,  42.,  69.,  24.,  68.,\n",
      "             56.,   1.,  32.,  56.,  71.,  37.,   2.,  36.,  91.],\n",
      "           [ 22.,  31.,  16.,  71.,  51.,  67.,  63.,  89.,  41.,  92.,  36.,\n",
      "             54.,  22.,  40.,  40.,  28.,  66.,  33.,  13.,  80.],\n",
      "           [ 24.,  47.,  32.,  60.,  99.,   3.,  45.,   2.,  44.,  75.,  33.,\n",
      "             53.,  78.,  36.,  84.,  20.,  35.,  17.,  12.,  50.],\n",
      "           [ 32.,  98.,  81.,  28.,  64.,  23.,  67.,  10.,  26.,  38.,  40.,\n",
      "             67.,  59.,  54.,  70.,  66.,  18.,  38.,  64.,  70.],\n",
      "           [ 67.,  26.,  20.,  68.,   2.,  62.,  12.,  20.,  95.,  63.,  94.,\n",
      "             39.,  63.,   8.,  40.,  91.,  66.,  49.,  94.,  21.],\n",
      "           [ 24.,  55.,  58.,   5.,  66.,  73.,  99.,  26.,  97.,  17.,  78.,\n",
      "             78.,  96.,  83.,  14.,  88.,  34.,  89.,  63.,  72.],\n",
      "           [ 21.,  36.,  23.,   9.,  75.,   0.,  76.,  44.,  20.,  45.,  35.,\n",
      "             14.,   0.,  61.,  33.,  97.,  34.,  31.,  33.,  95.],\n",
      "           [ 78.,  17.,  53.,  28.,  22.,  75.,  31.,  67.,  15.,  94.,   3.,\n",
      "             80.,   4.,  62.,  16.,  14.,   9.,  53.,  56.,  92.],\n",
      "           [ 16.,  39.,   5.,  42.,  96.,  35.,  31.,  47.,  55.,  58.,  88.,\n",
      "             24.,   0.,  17.,  54.,  24.,  36.,  29.,  85.,  57.],\n",
      "           [ 86.,  56.,   0.,  48.,  35.,  71.,  89.,   7.,   5.,  44.,  44.,\n",
      "             37.,  44.,  60.,  21.,  58.,  51.,  54.,  17.,  58.],\n",
      "           [ 19.,  80.,  81.,  68.,   5.,  94.,  47.,  69.,  28.,  73.,  92.,\n",
      "             13.,  86.,  52.,  17.,  77.,   4.,  89.,  55.,  40.],\n",
      "           [  4.,  52.,   8.,  83.,  97.,  35.,  99.,  16.,   7.,  97.,  57.,\n",
      "             32.,  16.,  26.,  26.,  79.,  33.,  27.,  98.,  66.],\n",
      "           [ 88.,  36.,  68.,  87.,  57.,  62.,  20.,  72.,   3.,  46.,  33.,\n",
      "             67.,  46.,  55.,  12.,  32.,  63.,  93.,  53.,  69.],\n",
      "           [  4.,  42.,  16.,  73.,  38.,  25.,  39.,  11.,  24.,  94.,  72.,\n",
      "             18.,   8.,  46.,  29.,  32.,  40.,  62.,  76.,  36.],\n",
      "           [ 20.,  69.,  36.,  41.,  72.,  30.,  23.,  88.,  34.,  62.,  99.,\n",
      "             69.,  82.,  67.,  59.,  85.,  74.,   4.,  36.,  16.],\n",
      "           [ 20.,  73.,  35.,  29.,  78.,  31.,  90.,   1.,  74.,  31.,  49.,\n",
      "             71.,  48.,  86.,  81.,  16.,  23.,  57.,   5.,  54.],\n",
      "           [  1.,  70.,  54.,  71.,  83.,  51.,  54.,  69.,  16.,  92.,  33.,\n",
      "             48.,  61.,  43.,  52.,   1.,  89.,  19.,  67.,  48.]])\n",
      "    the_range = np.arange(4)\n",
      "    \n",
      "    ans = 0\n",
      "    \n",
      "    saving = [0,0,0,0]\n",
      "    for i in range(0,20):\n",
      "        for j in range(0,20):\n",
      "            try:\n",
      "                test = 0\n",
      "                test = mat[i + the_range, j].prod()\n",
      "                if test > ans:\n",
      "                    ans = test\n",
      "                    saving = mat[i + the_range, j]\n",
      "            except:\n",
      "                pass\n",
      "    \n",
      "            try:\n",
      "                test = 0\n",
      "                test = mat[i, j + the_range].prod()\n",
      "                if test > ans:\n",
      "                    ans = test\n",
      "                    saving = mat[i, j + the_range]\n",
      "            except:\n",
      "                pass\n",
      "    \n",
      "            try:\n",
      "                test = 0\n",
      "                test = mat[i + the_range, j + the_range].prod()\n",
      "                if test > ans:\n",
      "                    ans = test\n",
      "                    saving = mat[i + the_range, j + the_range]\n",
      "            except:\n",
      "                pass\n",
      "    \n",
      "            try:\n",
      "                test = 0\n",
      "                test = mat[i + the_range, j - the_range].prod()\n",
      "                if test > ans:\n",
      "                    ans = test\n",
      "                    saving = mat[i + the_range, j - the_range]\n",
      "            except:\n",
      "                pass\n",
      "    \n",
      "    return ans\n",
      "\n",
      "print \"The answer is: \", main11()"
     ],
     "language": "python",
     "metadata": {},
     "outputs": [
      {
       "output_type": "stream",
       "stream": "stdout",
       "text": [
        "The answer is:  70600674.0\n"
       ]
      }
     ],
     "prompt_number": 45
    },
    {
     "cell_type": "code",
     "collapsed": false,
     "input": [
      "timeit main11()"
     ],
     "language": "python",
     "metadata": {},
     "outputs": [
      {
       "output_type": "stream",
       "stream": "stdout",
       "text": [
        "10 loops, best of 3: 28.2 ms per loop\n"
       ]
      }
     ],
     "prompt_number": 46
    },
    {
     "cell_type": "code",
     "collapsed": false,
     "input": [
      "def main12():\n",
      "    from sympy import divisor_count    \n",
      "    total = 0\n",
      "    its = 1\n",
      "    while total < 500:\n",
      "        num = sum(range(its))\n",
      "        total = divisor_count(num)\n",
      "        its += 1\n",
      "    return num\n",
      "\n",
      "print \"The answer is: \", main12()"
     ],
     "language": "python",
     "metadata": {},
     "outputs": [
      {
       "output_type": "stream",
       "stream": "stdout",
       "text": [
        "The answer is:  "
       ]
      },
      {
       "output_type": "stream",
       "stream": "stdout",
       "text": [
        "76576500\n"
       ]
      }
     ],
     "prompt_number": 47
    },
    {
     "cell_type": "code",
     "collapsed": false,
     "input": [
      "timeit main12()"
     ],
     "language": "python",
     "metadata": {},
     "outputs": [
      {
       "output_type": "stream",
       "stream": "stdout",
       "text": [
        "1 loops, best of 3: 12.9 s per loop\n"
       ]
      }
     ],
     "prompt_number": 49
    },
    {
     "cell_type": "code",
     "collapsed": false,
     "input": [
      "def main13():\n",
      "    big_number = [37107287533902102798797998220837590246510135740250,\n",
      "                   46376937677490009712648124896970078050417018260538,\n",
      "                   74324986199524741059474233309513058123726617309629,\n",
      "                   91942213363574161572522430563301811072406154908250,\n",
      "                   23067588207539346171171980310421047513778063246676,\n",
      "                   89261670696623633820136378418383684178734361726757,\n",
      "                   28112879812849979408065481931592621691275889832738,\n",
      "                   44274228917432520321923589422876796487670272189318,\n",
      "                   47451445736001306439091167216856844588711603153276,\n",
      "                   70386486105843025439939619828917593665686757934951,\n",
      "                   62176457141856560629502157223196586755079324193331,\n",
      "                   64906352462741904929101432445813822663347944758178,\n",
      "                   92575867718337217661963751590579239728245598838407,\n",
      "                   58203565325359399008402633568948830189458628227828,\n",
      "                   80181199384826282014278194139940567587151170094390,\n",
      "                   35398664372827112653829987240784473053190104293586,\n",
      "                   86515506006295864861532075273371959191420517255829,\n",
      "                   71693888707715466499115593487603532921714970056938,\n",
      "                   54370070576826684624621495650076471787294438377604,\n",
      "                   53282654108756828443191190634694037855217779295145,\n",
      "                   36123272525000296071075082563815656710885258350721,\n",
      "                   45876576172410976447339110607218265236877223636045,\n",
      "                   17423706905851860660448207621209813287860733969412,\n",
      "                   81142660418086830619328460811191061556940512689692,\n",
      "                   51934325451728388641918047049293215058642563049483,\n",
      "                   62467221648435076201727918039944693004732956340691,\n",
      "                   15732444386908125794514089057706229429197107928209,\n",
      "                   55037687525678773091862540744969844508330393682126,\n",
      "                   18336384825330154686196124348767681297534375946515,\n",
      "                   80386287592878490201521685554828717201219257766954,\n",
      "                   78182833757993103614740356856449095527097864797581,\n",
      "                   16726320100436897842553539920931837441497806860984,\n",
      "                   48403098129077791799088218795327364475675590848030,\n",
      "                   87086987551392711854517078544161852424320693150332,\n",
      "                   59959406895756536782107074926966537676326235447210,\n",
      "                   69793950679652694742597709739166693763042633987085,\n",
      "                   41052684708299085211399427365734116182760315001271,\n",
      "                   65378607361501080857009149939512557028198746004375,\n",
      "                   35829035317434717326932123578154982629742552737307,\n",
      "                   94953759765105305946966067683156574377167401875275,\n",
      "                   88902802571733229619176668713819931811048770190271,\n",
      "                   25267680276078003013678680992525463401061632866526,\n",
      "                   36270218540497705585629946580636237993140746255962,\n",
      "                   24074486908231174977792365466257246923322810917141,\n",
      "                   91430288197103288597806669760892938638285025333403,\n",
      "                   34413065578016127815921815005561868836468420090470,\n",
      "                   23053081172816430487623791969842487255036638784583,\n",
      "                   11487696932154902810424020138335124462181441773470,\n",
      "                   63783299490636259666498587618221225225512486764533,\n",
      "                   67720186971698544312419572409913959008952310058822,\n",
      "                   95548255300263520781532296796249481641953868218774,\n",
      "                   76085327132285723110424803456124867697064507995236,\n",
      "                   37774242535411291684276865538926205024910326572967,\n",
      "                   23701913275725675285653248258265463092207058596522,\n",
      "                   29798860272258331913126375147341994889534765745501,\n",
      "                   18495701454879288984856827726077713721403798879715,\n",
      "                   38298203783031473527721580348144513491373226651381,\n",
      "                   34829543829199918180278916522431027392251122869539,\n",
      "                   40957953066405232632538044100059654939159879593635,\n",
      "                   29746152185502371307642255121183693803580388584903,\n",
      "                   41698116222072977186158236678424689157993532961922,\n",
      "                   62467957194401269043877107275048102390895523597457,\n",
      "                   23189706772547915061505504953922979530901129967519,\n",
      "                   86188088225875314529584099251203829009407770775672,\n",
      "                   11306739708304724483816533873502340845647058077308,\n",
      "                   82959174767140363198008187129011875491310547126581,\n",
      "                   97623331044818386269515456334926366572897563400500,\n",
      "                   42846280183517070527831839425882145521227251250327,\n",
      "                   55121603546981200581762165212827652751691296897789,\n",
      "                   32238195734329339946437501907836945765883352399886,\n",
      "                   75506164965184775180738168837861091527357929701337,\n",
      "                   62177842752192623401942399639168044983993173312731,\n",
      "                   32924185707147349566916674687634660915035914677504,\n",
      "                   99518671430235219628894890102423325116913619626622,\n",
      "                   73267460800591547471830798392868535206946944540724,\n",
      "                   76841822524674417161514036427982273348055556214818,\n",
      "                   97142617910342598647204516893989422179826088076852,\n",
      "                   87783646182799346313767754307809363333018982642090,\n",
      "                   10848802521674670883215120185883543223812876952786,\n",
      "                   71329612474782464538636993009049310363619763878039,\n",
      "                   62184073572399794223406235393808339651327408011116,\n",
      "                   66627891981488087797941876876144230030984490851411,\n",
      "                   60661826293682836764744779239180335110989069790714,\n",
      "                   85786944089552990653640447425576083659976645795096,\n",
      "                   66024396409905389607120198219976047599490197230297,\n",
      "                   64913982680032973156037120041377903785566085089252,\n",
      "                   16730939319872750275468906903707539413042652315011,\n",
      "                   94809377245048795150954100921645863754710598436791,\n",
      "                   78639167021187492431995700641917969777599028300699,\n",
      "                   15368713711936614952811305876380278410754449733078,\n",
      "                   40789923115535562561142322423255033685442488917353,\n",
      "                   44889911501440648020369068063960672322193204149535,\n",
      "                   41503128880339536053299340368006977710650566631954,\n",
      "                   81234880673210146739058568557934581403627822703280,\n",
      "                   82616570773948327592232845941706525094512325230608,\n",
      "                   22918802058777319719839450180888072429661980811197,\n",
      "                   77158542502016545090413245809786882778948721859617,\n",
      "                   72107838435069186155435662884062257473692284509516,\n",
      "                   20849603980134001723930671666823555245252804609722,\n",
      "                   53503534226472524250874054075591789781264330331690]\n",
      "\n",
      "    ans = int(str(sum(big_number))[:10])\n",
      "    return ans\n",
      "\n",
      "print \"The answer is: \", main13()"
     ],
     "language": "python",
     "metadata": {},
     "outputs": [
      {
       "output_type": "stream",
       "stream": "stdout",
       "text": [
        "The answer is:  5537376230\n"
       ]
      }
     ],
     "prompt_number": 50
    },
    {
     "cell_type": "code",
     "collapsed": false,
     "input": [
      "timeit main13()"
     ],
     "language": "python",
     "metadata": {},
     "outputs": [
      {
       "output_type": "stream",
       "stream": "stdout",
       "text": [
        "10000 loops, best of 3: 67.3 us per loop\n"
       ]
      }
     ],
     "prompt_number": 51
    },
    {
     "cell_type": "code",
     "collapsed": false,
     "input": [
      "def main14():\n",
      "    ans = 0\n",
      "    max_len = 0\n",
      "    \n",
      "    def get_chain_length(n, count=1):\n",
      "        while n > 1:\n",
      "            count += 1\n",
      "            if n % 2 == 0:\n",
      "                n = n / 2\n",
      "            else:\n",
      "                n = 3 * n + 1\n",
      "    \n",
      "        return count\n",
      "    \n",
      "    for i in xrange(999999, 3, -2):\n",
      "        c = get_chain_length(i)\n",
      "        if c > max_len:\n",
      "            max_len = c\n",
      "            ans = i\n",
      "    return [ans, max_len]\n",
      "\n",
      "print \"The answer is: \", main14()"
     ],
     "language": "python",
     "metadata": {},
     "outputs": [
      {
       "output_type": "stream",
       "stream": "stdout",
       "text": [
        "The answer is:  "
       ]
      },
      {
       "output_type": "stream",
       "stream": "stdout",
       "text": [
        "[837799, 525]\n"
       ]
      }
     ],
     "prompt_number": 52
    },
    {
     "cell_type": "code",
     "collapsed": false,
     "input": [
      "timeit main14()"
     ],
     "language": "python",
     "metadata": {},
     "outputs": [
      {
       "output_type": "stream",
       "stream": "stdout",
       "text": [
        "1 loops, best of 3: 16.6 s per loop\n"
       ]
      }
     ],
     "prompt_number": 53
    },
    {
     "cell_type": "code",
     "collapsed": false,
     "input": [
      "def main15():\n",
      "    def pascal(n):\n",
      "        \"\"\"\n",
      "        Yield up to row ``n`` of Pascal's triangle, one row at a time.\n",
      "\n",
      "        The first row is row 0.\n",
      "        \"\"\"\n",
      "        def newrow(row):\n",
      "            \"Calculate a row of Pascal's triangle given the previous one.\"\n",
      "            prev = 0\n",
      "            for x in row:\n",
      "                yield prev + x\n",
      "                prev = x\n",
      "            yield 1\n",
      "\n",
      "        prevrow = [1]\n",
      "        yield prevrow\n",
      "        for x in xrange(n):\n",
      "            prevrow = list(newrow(prevrow))\n",
      "            yield prevrow\n",
      "\n",
      "\n",
      "    def coefs(h, j):\n",
      "    \t\"\"\"\n",
      "    \tParameters\n",
      "    \t----------\n",
      "    \th: number, int\n",
      "    \t\tThe number of parameters in the polynomial expansion.\n",
      "    \tj: number, int\n",
      "    \t\tThe degree of the expansion.\n",
      "\n",
      "    \tReturns\n",
      "    \t-------\n",
      "    \telement: number, int\n",
      "    \t\tThe number of coefficients in a jth order polynomial expansion in terms\n",
      "    \t\tof h parameters.\n",
      "    \t\"\"\"\n",
      "    \t# gather all rows into a list\n",
      "    \tpas = np.asarray(list(pascal(h + j)))\n",
      "\n",
      "    \t#Pull out the last row\n",
      "    \ttheRow = pas[-1]\n",
      "\n",
      "    \t# grab the correct element.\n",
      "    \telement = theRow[j]\n",
      "\n",
      "\n",
      "\n",
      "    \treturn element\n",
      "\n",
      "    ans = coefs(20, 20)\n",
      "    return ans\n",
      "\n",
      "print \"The answer is: \", main15()\n"
     ],
     "language": "python",
     "metadata": {},
     "outputs": [
      {
       "output_type": "stream",
       "stream": "stdout",
       "text": [
        "The answer is:  137846528820\n"
       ]
      }
     ],
     "prompt_number": 54
    },
    {
     "cell_type": "code",
     "collapsed": false,
     "input": [
      "timeit main15()"
     ],
     "language": "python",
     "metadata": {},
     "outputs": [
      {
       "output_type": "stream",
       "stream": "stdout",
       "text": [
        "1000 loops, best of 3: 374 us per loop\n"
       ]
      }
     ],
     "prompt_number": 55
    },
    {
     "cell_type": "code",
     "collapsed": false,
     "input": [
      "def main16():\n",
      "    ans = 0\n",
      "    x = str(2 ** 1000)\n",
      "    for i in x:\n",
      "        ans += int(i)\n",
      "    return ans\n",
      "\n",
      "print \"The answer is: \", main16()"
     ],
     "language": "python",
     "metadata": {},
     "outputs": [
      {
       "output_type": "stream",
       "stream": "stdout",
       "text": [
        "The answer is:  1366\n"
       ]
      }
     ],
     "prompt_number": 56
    },
    {
     "cell_type": "code",
     "collapsed": false,
     "input": [
      "timeit main16()"
     ],
     "language": "python",
     "metadata": {},
     "outputs": [
      {
       "output_type": "stream",
       "stream": "stdout",
       "text": [
        "1000 loops, best of 3: 265 us per loop\n"
       ]
      }
     ],
     "prompt_number": 57
    },
    {
     "cell_type": "code",
     "collapsed": false,
     "input": [
      "def main17():\n",
      "    pass  # did by hand"
     ],
     "language": "python",
     "metadata": {},
     "outputs": [],
     "prompt_number": 58
    },
    {
     "cell_type": "code",
     "collapsed": false,
     "input": [
      "def main18():\n",
      "    triangle_file = open('prob_18.txt', 'r')\n",
      "    data = []\n",
      "    \n",
      "    for line in triangle_file:\n",
      "        data.append([int(x) for x in line.split()])\n",
      "    \n",
      "    \n",
      "    def remove_last(data):\n",
      "        last_row = data[-1]\n",
      "        second_to_last = data[-2]\n",
      "        for i in range(len(second_to_last)):\n",
      "            second_to_last[i] += max(last_row[i:i + 2])\n",
      "        del data[-1]\n",
      "        del data[-1]\n",
      "        data.append(second_to_last)\n",
      "        return data\n",
      "    \n",
      "    while len(data) > 1:\n",
      "        remove_last(data)\n",
      "    \n",
      "    return data[0][0]\n",
      "\n",
      "print \"The answer is: \", main18()"
     ],
     "language": "python",
     "metadata": {},
     "outputs": [
      {
       "output_type": "stream",
       "stream": "stdout",
       "text": [
        " The answer is:  1074\n"
       ]
      }
     ],
     "prompt_number": 60
    },
    {
     "cell_type": "code",
     "collapsed": false,
     "input": [
      "timeit main18()"
     ],
     "language": "python",
     "metadata": {},
     "outputs": [
      {
       "output_type": "stream",
       "stream": "stdout",
       "text": [
        "1000 loops, best of 3: 228 us per loop\n"
       ]
      }
     ],
     "prompt_number": 61
    },
    {
     "cell_type": "code",
     "collapsed": false,
     "input": [
      "def main19():\n",
      "    import pandas as pd\n",
      "    sundays = pd.date_range('1/1/1901', '12/31/2000', freq='W-SUN')\n",
      "    \n",
      "    count = 0\n",
      "    \n",
      "    for month in sundays:\n",
      "        if month.day == 1:\n",
      "            count += 1\n",
      "    return count\n",
      "\n",
      "print \"The answer is: \", main19()"
     ],
     "language": "python",
     "metadata": {},
     "outputs": [
      {
       "output_type": "stream",
       "stream": "stdout",
       "text": [
        "The answer is:  "
       ]
      },
      {
       "output_type": "stream",
       "stream": "stdout",
       "text": [
        "171\n"
       ]
      }
     ],
     "prompt_number": 62
    },
    {
     "cell_type": "code",
     "collapsed": false,
     "input": [
      "timeit main19()"
     ],
     "language": "python",
     "metadata": {},
     "outputs": [
      {
       "output_type": "stream",
       "stream": "stdout",
       "text": [
        "10 loops, best of 3: 30.9 ms per loop\n"
       ]
      }
     ],
     "prompt_number": 64
    },
    {
     "cell_type": "code",
     "collapsed": false,
     "input": [
      "def main20():\n",
      "    import sympy as sym\n",
      "    import numpy as np\n",
      "    \n",
      "    x = str(sym.factorial(100))\n",
      "    \n",
      "    xarr = np.array([int(i) for i in x])\n",
      "    \n",
      "    ans = xarr.sum()\n",
      "    return ans\n",
      "\n",
      "print \"The answer is: \", main20()"
     ],
     "language": "python",
     "metadata": {},
     "outputs": [
      {
       "output_type": "stream",
       "stream": "stdout",
       "text": [
        "The answer is:  648\n"
       ]
      }
     ],
     "prompt_number": 65
    },
    {
     "cell_type": "code",
     "collapsed": false,
     "input": [
      "timeit main20()"
     ],
     "language": "python",
     "metadata": {},
     "outputs": [
      {
       "output_type": "stream",
       "stream": "stdout",
       "text": [
        "1000 loops, best of 3: 192 us per loop\n"
       ]
      }
     ],
     "prompt_number": 66
    },
    {
     "cell_type": "code",
     "collapsed": false,
     "input": [
      "def main21():\n",
      "    import sympy as sym\n",
      "    import numpy as np\n",
      "    import pandas as pd\n",
      "    \n",
      "    \n",
      "    def d(n):\n",
      "        \"\"\"\n",
      "        Implementation of the d(n) function in the problem description\n",
      "        \"\"\"\n",
      "        return sum(sym.divisors(n)[:-1])\n",
      "    \n",
      "    the_range = np.arange(1, 10001)\n",
      "    all_ds = np.asarray([d(i) for i in the_range])\n",
      "    all_d_ds = np.asarray([d(i) for i in all_ds])\n",
      "    \n",
      "    data = pd.DataFrame(np.column_stack([all_ds, all_d_ds]), index=the_range,\n",
      "                        columns=['d(n)', 'd(d(n))'])\n",
      "    data.index.name = 'n'\n",
      "    \n",
      "    matches = data[data.index == data['d(d(n))']]\n",
      "    \n",
      "    amicables = matches[matches.index != matches['d(n)']]\n",
      "    \n",
      "    ans = amicables.sum()['d(n)']\n",
      "    return ans\n",
      "\n",
      "print \"The answer is: \", main21()"
     ],
     "language": "python",
     "metadata": {},
     "outputs": [
      {
       "output_type": "stream",
       "stream": "stdout",
       "text": [
        "The answer is:  "
       ]
      },
      {
       "output_type": "stream",
       "stream": "stdout",
       "text": [
        "31626.0\n"
       ]
      }
     ],
     "prompt_number": 67
    },
    {
     "cell_type": "code",
     "collapsed": false,
     "input": [
      "timeit main21()"
     ],
     "language": "python",
     "metadata": {},
     "outputs": [
      {
       "output_type": "stream",
       "stream": "stdout",
       "text": [
        "1 loops, best of 3: 1.41 s per loop\n"
       ]
      }
     ],
     "prompt_number": 68
    },
    {
     "cell_type": "code",
     "collapsed": false,
     "input": [
      "def main22():\n",
      "    import pandas as pd\n",
      "    import numpy as np\n",
      "    \n",
      "    df = pd.DataFrame.from_csv('names.txt')\n",
      "    \n",
      "    df.sort_index(inplace=1)\n",
      "    df['rank'] = np.arange(1, 5164)\n",
      "    \n",
      "    newdf = pd.DataFrame(df.index, index=df['rank'], columns=['Name'])\n",
      "    newdf.ix[1]['Name'] = 'NA'  # this is because pandas converts 'NA' to NaN\n",
      "    newdf = newdf.sort('Name')\n",
      "    newdf['Real Rank'] = range(1, 5164)\n",
      "    newdf = newdf.set_index('Real Rank')\n",
      "    \n",
      "    \n",
      "    scores = {'A': 1, 'B': 2, 'C': 3, 'D': 4, 'E': 5, 'F': 6, 'G': 7, 'H': 8,\n",
      "              'I': 9, 'J': 10, 'K': 11, 'L': 12, 'M': 13, 'N': 14, 'O': 15,\n",
      "              'P': 16, 'Q': 17, 'R': 18, 'S': 19, 'T': 20, 'U': 21, 'V': 22,\n",
      "              'W': 23, 'X': 24, 'Y': 25, 'Z': 26}\n",
      "    \n",
      "    \n",
      "    def name_score(x):\n",
      "        temp = 0\n",
      "        for i in str(x):\n",
      "            temp += scores[i]\n",
      "        return temp\n",
      "    \n",
      "    newdf['Name Score'] = newdf['Name'].map(name_score)\n",
      "    newdf['Total Score'] = newdf.index.values * newdf['Name Score'].values\n",
      "    \n",
      "    ans = newdf['Total Score'].sum()\n",
      "    return ans\n",
      "\n",
      "print \"The answer is: \", main22()"
     ],
     "language": "python",
     "metadata": {},
     "outputs": [
      {
       "output_type": "stream",
       "stream": "stdout",
       "text": [
        "The answer is:  "
       ]
      },
      {
       "output_type": "stream",
       "stream": "stdout",
       "text": [
        "871198282\n"
       ]
      }
     ],
     "prompt_number": 69
    },
    {
     "cell_type": "code",
     "collapsed": false,
     "input": [
      "timeit main22()"
     ],
     "language": "python",
     "metadata": {},
     "outputs": [
      {
       "output_type": "stream",
       "stream": "stdout",
       "text": [
        "10 loops, best of 3: 33.3 ms per loop\n"
       ]
      }
     ],
     "prompt_number": 70
    },
    {
     "cell_type": "code",
     "collapsed": false,
     "input": [
      "# Not sure why, but this isn't working in the ipynb. \n",
      "# Just run this as its own script and it will run fine.\n",
      "def classify(n):\n",
      "    \"\"\"\n",
      "    Classifies a number n as being perfect, decifient, or abundant\n",
      "\n",
      "    If 0 is returned the number is perfect.\n",
      "\n",
      "    If 1 is returned the number is deficient.\n",
      "\n",
      "    If 2 is returned the number is abundant.\n",
      "    \"\"\"\n",
      "    sum_divs = sum(sym.divisors(n)[:-1])\n",
      "    if sum_divs == n:\n",
      "        return 0\n",
      "    elif sum_divs < n:\n",
      "        return 1\n",
      "    else:\n",
      "        return 2\n",
      "\n",
      "def main23():\n",
      "    import sympy as sym\n",
      "    import numpy as np\n",
      "\n",
      "    nums = np.arange(1, 28123 + 1)\n",
      "\n",
      "    classy = np.array([classify(i) for i in nums])\n",
      "\n",
      "    abuns = nums[classy == 2]\n",
      "\n",
      "    abun = set(abuns)\n",
      "\n",
      "    ans = 0\n",
      "\n",
      "    for i in xrange(28123):\n",
      "        if not any((i - a in abun) for a in abun):\n",
      "            ans += i\n",
      "    return ans\n",
      "\n",
      "print \"The answer is: \", main23()"
     ],
     "language": "python",
     "metadata": {},
     "outputs": [
      {
       "output_type": "stream",
       "stream": "stdout",
       "text": [
        "The answer is:  "
       ]
      },
      {
       "output_type": "stream",
       "stream": "stdout",
       "text": [
        "0\n"
       ]
      }
     ],
     "prompt_number": 9
    },
    {
     "cell_type": "code",
     "collapsed": false,
     "input": [
      "timeit main23()"
     ],
     "language": "python",
     "metadata": {},
     "outputs": [
      {
       "output_type": "stream",
       "stream": "stdout",
       "text": [
        "1 loops, best of 3: 2.25 s per loop\n"
       ]
      }
     ],
     "prompt_number": 72
    },
    {
     "cell_type": "code",
     "collapsed": false,
     "input": [
      "run SL_Problem23"
     ],
     "language": "python",
     "metadata": {},
     "outputs": [
      {
       "output_type": "stream",
       "stream": "stdout",
       "text": [
        "The answer is:  4179871\n",
        "Total execution time is:  19.7126848698\n"
       ]
      }
     ],
     "prompt_number": 10
    },
    {
     "cell_type": "code",
     "collapsed": false,
     "input": [
      "def main24():\n",
      "    import itertools\n",
      "\n",
      "    x = itertools.permutations('0123456789', 10)\n",
      "    \n",
      "    count = 0\n",
      "    for i in x:\n",
      "        count += 1\n",
      "        if count == 1000000:\n",
      "            ans = i\n",
      "        else:\n",
      "            pass\n",
      "    \n",
      "    ans2 = [int(i) for i in ans]\n",
      "    ans = str(ans2).strip('[]').replace(\", \",\"\")\n",
      "    return ans\n",
      "\n",
      "print \"The answer is: \", main24()"
     ],
     "language": "python",
     "metadata": {},
     "outputs": [
      {
       "output_type": "stream",
       "stream": "stdout",
       "text": [
        "The answer is:  "
       ]
      },
      {
       "output_type": "stream",
       "stream": "stdout",
       "text": [
        "2783915460\n"
       ]
      }
     ],
     "prompt_number": 8
    },
    {
     "cell_type": "code",
     "collapsed": false,
     "input": [
      "timeit main24()"
     ],
     "language": "python",
     "metadata": {},
     "outputs": [
      {
       "output_type": "stream",
       "stream": "stdout",
       "text": [
        "1 loops, best of 3: 593 ms per loop\n"
       ]
      }
     ],
     "prompt_number": 9
    },
    {
     "cell_type": "code",
     "collapsed": false,
     "input": [
      "def main25():\n",
      "    import sympy as sym\n",
      "    import numpy as np\n",
      "    \n",
      "    fibs = [str(sym.fibonacci(n)) for n in xrange(5000)]\n",
      "    lens = np.array([len(fibs[i]) for i in xrange(5000)])\n",
      "    \n",
      "    ans = np.where(lens == 1000)[0][0]\n",
      "    \n",
      "    return ans\n",
      "print \"The answer is: \", main25()"
     ],
     "language": "python",
     "metadata": {},
     "outputs": [
      {
       "output_type": "stream",
       "stream": "stdout",
       "text": [
        "The answer is:  "
       ]
      },
      {
       "output_type": "stream",
       "stream": "stdout",
       "text": [
        "4782\n"
       ]
      }
     ],
     "prompt_number": 10
    },
    {
     "cell_type": "code",
     "collapsed": false,
     "input": [
      "timeit main25()"
     ],
     "language": "python",
     "metadata": {},
     "outputs": [
      {
       "output_type": "stream",
       "stream": "stdout",
       "text": [
        "1 loops, best of 3: 176 ms per loop\n"
       ]
      }
     ],
     "prompt_number": 11
    },
    {
     "cell_type": "code",
     "collapsed": false,
     "input": [
      "def main26():\n",
      "    import sympy as sym\n",
      "    import numpy as np\n",
      "    \n",
      "    # The number must be prime and I am guessing it is big so start with highest.\n",
      "    primes = np.asarray(list(sym.primerange(1, 1000)))[::-1][:-3]\n",
      "    \n",
      "    periods = np.asarray([sym.ntheory.n_order(10, i) for i in primes])\n",
      "    the_max = np.argmax(periods)\n",
      "    \n",
      "    ans = primes[the_max]\n",
      "    \n",
      "    return ans\n",
      "\n",
      "print \"The answer is: \", main26()"
     ],
     "language": "python",
     "metadata": {},
     "outputs": [
      {
       "output_type": "stream",
       "stream": "stdout",
       "text": [
        "The answer is:  983\n"
       ]
      }
     ],
     "prompt_number": 11
    },
    {
     "cell_type": "code",
     "collapsed": false,
     "input": [
      "timeit main26()"
     ],
     "language": "python",
     "metadata": {},
     "outputs": [
      {
       "output_type": "stream",
       "stream": "stdout",
       "text": [
        "100 loops, best of 3: 9.43 ms per loop\n"
       ]
      }
     ],
     "prompt_number": 12
    },
    {
     "cell_type": "code",
     "collapsed": false,
     "input": [
      "def main27():\n",
      "    import sympy as sym\n",
      "    import numpy as np\n",
      "    from time import time\n",
      "    from itertools import product\n",
      "\n",
      "    start_time = time()\n",
      "\n",
      "    a = np.arange(-999, 1000, 2)\n",
      "    primes = np.asarray(list(sym.primerange(3, 1000)))\n",
      "    b = np.concatenate((primes, primes * -1))\n",
      "    b.sort()\n",
      "\n",
      "\n",
      "    def is_prime(x):\n",
      "        return np.asarray([sym.isprime(abs(i)) for i in x])\n",
      "\n",
      "    n = np.arange(0, 150)\n",
      "\n",
      "\n",
      "    def test(a, b, n):\n",
      "        vals = n ** 2 + a * n + b\n",
      "        bools = is_prime(vals)\n",
      "        length = np.where(bools < 1)[0][0]\n",
      "        return length\n",
      "\n",
      "    tries = product(a, b)\n",
      "    num_tries = len(list(product(a, b)))\n",
      "\n",
      "    longest = 0\n",
      "    arg_longest = 0\n",
      "\n",
      "    for i in range(num_tries):\n",
      "        this_try = tries.next()\n",
      "        this_length = test(this_try[0], this_try[1], n)\n",
      "        if this_length > longest:\n",
      "            longest = this_length\n",
      "            arg_longest = i\n",
      "\n",
      "    tries2 = list(product(a, b))\n",
      "    ans = tries2[arg_longest][0] * tries2[arg_longest][1]\n",
      "\n",
      "    return ans\n",
      "\n",
      "print \"The answer is: \", main27()"
     ],
     "language": "python",
     "metadata": {},
     "outputs": [
      {
       "output_type": "stream",
       "stream": "stdout",
       "text": [
        "The answer is:  "
       ]
      },
      {
       "output_type": "stream",
       "stream": "stdout",
       "text": [
        "-59231\n"
       ]
      }
     ],
     "prompt_number": 13
    },
    {
     "cell_type": "code",
     "collapsed": false,
     "input": [
      "timeit main27()"
     ],
     "language": "python",
     "metadata": {},
     "outputs": [
      {
       "output_type": "stream",
       "stream": "stdout",
       "text": [
        "1 loops, best of 3: 327 s per loop\n"
       ]
      }
     ],
     "prompt_number": 14
    },
    {
     "cell_type": "code",
     "collapsed": false,
     "input": [
      "def main28():\n",
      "    import numpy as np\n",
      "    ur_stride = np.arange(8, 8 * 500 + 1, 8)\n",
      "    dr_stride = ur_stride - 6\n",
      "    dl_stride = ur_stride - 4\n",
      "    ul_stride = ur_stride - 2\n",
      "    \n",
      "    ur = np.zeros(500)\n",
      "    dr = np.zeros(500)\n",
      "    dl = np.zeros(500)\n",
      "    ul = np.zeros(500)\n",
      "    \n",
      "    ur[0] = 9\n",
      "    dr[0] = 3\n",
      "    dl[0] = 5\n",
      "    ul[0] = 7\n",
      "    \n",
      "    for i in xrange(1, 500):\n",
      "        ur[i] = ur[i - 1] + ur_stride[i]\n",
      "        dr[i] = dr[i - 1] + dr_stride[i]\n",
      "        dl[i] = dl[i - 1] + dl_stride[i]\n",
      "        ul[i] = ul[i - 1] + ul_stride[i]\n",
      "    \n",
      "    ans = ur.sum() + dr.sum() + dl.sum() + ul.sum() + 1\n",
      "    \n",
      "    return ans\n",
      "\n",
      "print \"the answer is: \", main28()"
     ],
     "language": "python",
     "metadata": {},
     "outputs": [
      {
       "output_type": "stream",
       "stream": "stdout",
       "text": [
        "the answer is:  669171001.0\n"
       ]
      }
     ],
     "prompt_number": 15
    },
    {
     "cell_type": "code",
     "collapsed": false,
     "input": [
      "timeit main28()"
     ],
     "language": "python",
     "metadata": {},
     "outputs": [
      {
       "output_type": "stream",
       "stream": "stdout",
       "text": [
        "100 loops, best of 3: 2.07 ms per loop\n"
       ]
      }
     ],
     "prompt_number": 16
    },
    {
     "cell_type": "code",
     "collapsed": false,
     "input": [
      "def main29():\n",
      "    from itertools import product    \n",
      "    nums = range(2, 101)\n",
      "    tests = list(product(nums, nums))\n",
      "    els = set([i[0] ** i[1] for i in tests])\n",
      "    ans = len(els)\n",
      "    return ans\n",
      "\n",
      "print \"The answer is: \", main29()"
     ],
     "language": "python",
     "metadata": {},
     "outputs": [
      {
       "output_type": "stream",
       "stream": "stdout",
       "text": [
        "The answer is:  9183\n"
       ]
      }
     ],
     "prompt_number": 12
    },
    {
     "cell_type": "code",
     "collapsed": false,
     "input": [
      "timeit main29()"
     ],
     "language": "python",
     "metadata": {},
     "outputs": [
      {
       "output_type": "stream",
       "stream": "stdout",
       "text": [
        "10 loops, best of 3: 26.7 ms per loop\n"
       ]
      }
     ],
     "prompt_number": 13
    },
    {
     "cell_type": "code",
     "collapsed": false,
     "input": [
      "def main30():\n",
      "    saved = []\n",
      "    # Upper bound is 6*(9**5). 7*(9**5) gives 6 digit number so it won't work.\n",
      "    for i in xrange(2, 354294):\n",
      "        temp_sum = sum([int(str(i)[j]) ** 5 for j in range(len(str(i)))])\n",
      "        if temp_sum == i:\n",
      "            saved.append(i)\n",
      "    \n",
      "    return sum(saved)\n",
      "\n",
      "print \"The answer is: \", main30()"
     ],
     "language": "python",
     "metadata": {},
     "outputs": [
      {
       "output_type": "stream",
       "stream": "stdout",
       "text": [
        "The answer is:  "
       ]
      },
      {
       "output_type": "stream",
       "stream": "stdout",
       "text": [
        "443839\n"
       ]
      }
     ],
     "prompt_number": 5
    },
    {
     "cell_type": "code",
     "collapsed": false,
     "input": [
      "timeit main30()"
     ],
     "language": "python",
     "metadata": {},
     "outputs": [
      {
       "output_type": "stream",
       "stream": "stdout",
       "text": [
        "1 loops, best of 3: 13.2 s per loop\n"
       ]
      }
     ],
     "prompt_number": 6
    },
    {
     "cell_type": "code",
     "collapsed": false,
     "input": [
      "def main31():\n",
      "    \"\"\"\n",
      "    Answer idea came from http://www.algorithmist.com/index.php/Coin_Change\n",
      "    \"\"\"\n",
      "    import numpy as np\n",
      "    coins = np.array([1, 2, 5, 10, 20, 50, 100, 200])[::-1]\n",
      "    \n",
      "    def count(n, m):\n",
      "        if n == 0:\n",
      "            return 1\n",
      "        if n < 0:\n",
      "            return 0\n",
      "        if m <= 0 and n >= 1: \n",
      "            return 0\n",
      "        return count(n, m-1) + count(n - coins[m], m)\n",
      "    \n",
      "    return count(200, 7) + 1  # Add 1 for 1 way to make 0\n",
      "\n",
      "print \"The answer is: \", main31()"
     ],
     "language": "python",
     "metadata": {},
     "outputs": [
      {
       "output_type": "stream",
       "stream": "stdout",
       "text": [
        "The answer is:  "
       ]
      },
      {
       "output_type": "stream",
       "stream": "stdout",
       "text": [
        "73682\n"
       ]
      }
     ],
     "prompt_number": 43
    },
    {
     "cell_type": "code",
     "collapsed": false,
     "input": [
      "timeit main31()"
     ],
     "language": "python",
     "metadata": {},
     "outputs": [
      {
       "output_type": "stream",
       "stream": "stdout",
       "text": [
        "1 loops, best of 3: 43 s per loop\n"
       ]
      }
     ],
     "prompt_number": 44
    },
    {
     "cell_type": "code",
     "collapsed": false,
     "input": [
      "def main32():\n",
      "    pans = set()\n",
      "    \n",
      "    for a in xrange(1, 1000):\n",
      "        for b in xrange(1, 9999 / a + 1):\n",
      "            c = a * b\n",
      "            check_set = set(list(str(c) + str(a) + str(b)))\n",
      "            if  len(str(c)) <= 5 and len(check_set) == 9 and '0' not in check_set:\n",
      "                pans.add(c)\n",
      "    \n",
      "    return sum(list(pans))\n",
      "\n",
      "print \"The answer is: \", main32()"
     ],
     "language": "python",
     "metadata": {},
     "outputs": [
      {
       "output_type": "stream",
       "stream": "stdout",
       "text": [
        "The answer is:  "
       ]
      },
      {
       "output_type": "stream",
       "stream": "stdout",
       "text": [
        "45228\n"
       ]
      }
     ],
     "prompt_number": 8
    },
    {
     "cell_type": "code",
     "collapsed": false,
     "input": [
      "timeit main32()"
     ],
     "language": "python",
     "metadata": {},
     "outputs": [
      {
       "output_type": "stream",
       "stream": "stdout",
       "text": [
        "1 loops, best of 3: 229 ms per loop\n"
       ]
      }
     ],
     "prompt_number": 9
    },
    {
     "cell_type": "code",
     "collapsed": false,
     "input": [
      "def main33():\n",
      "    from sympy import fraction, Rational\n",
      "    import numpy as np\n",
      "    ll = []\n",
      "    for a in xrange(10, 100):\n",
      "        for b in xrange(a + 1, 100):\n",
      "            sa = str(a)\n",
      "            sb = str(b)\n",
      "            a_set = set(list(sa))\n",
      "            b_set = set(list(sb))\n",
      "            if len(a_set) == 2 and len(b_set) == 2:\n",
      "                unn = a_set & b_set\n",
      "                if unn:\n",
      "                    if list(unn)[0] != str(0):\n",
      "                        dup = list(unn)[0]\n",
      "                        stripa = float(sa.strip(dup))\n",
      "                        stripb = float(sb.strip(dup))\n",
      "                        if stripb != 0. and stripa != 0.:\n",
      "                            diff = stripa / stripb\n",
      "                            if diff == float(a) / float(b):\n",
      "                                ll.append((a, b))\n",
      "    arr = np.array(ll)\n",
      "    ans = fraction(Rational(arr.prod(axis=0)[0], arr.prod(axis=0)[1]))[1]\n",
      "    return ans\n",
      "\n",
      "print \"The answer is: \", main33()"
     ],
     "language": "python",
     "metadata": {},
     "outputs": [
      {
       "output_type": "stream",
       "stream": "stdout",
       "text": [
        " The answer is:  "
       ]
      },
      {
       "output_type": "stream",
       "stream": "stdout",
       "text": [
        "100\n"
       ]
      }
     ],
     "prompt_number": 42
    },
    {
     "cell_type": "code",
     "collapsed": false,
     "input": [
      "timeit main33()\n"
     ],
     "language": "python",
     "metadata": {},
     "outputs": [
      {
       "output_type": "stream",
       "stream": "stdout",
       "text": [
        "10 loops, best of 3: 18 ms per loop\n"
       ]
      }
     ],
     "prompt_number": 43
    }
   ],
   "metadata": {}
  }
 ]
}
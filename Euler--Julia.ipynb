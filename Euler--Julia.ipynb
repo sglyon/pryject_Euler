{
 "metadata": {
  "language": "Julia",
  "name": ""
 },
 "nbformat": 3,
 "nbformat_minor": 0,
 "worksheets": [
  {
   "cells": [
    {
     "cell_type": "code",
     "collapsed": false,
     "input": [
      "[1:2]"
     ],
     "language": "python",
     "metadata": {},
     "outputs": [
      {
       "metadata": {},
       "output_type": "pyout",
       "prompt_number": 7,
       "text": [
        "2-element Array{Int64,1}:\n",
        " 1\n",
        " 2"
       ]
      }
     ],
     "prompt_number": 7
    },
    {
     "cell_type": "code",
     "collapsed": false,
     "input": [
      "using Benchmark"
     ],
     "language": "python",
     "metadata": {},
     "outputs": [],
     "prompt_number": 8
    },
    {
     "cell_type": "code",
     "collapsed": false,
     "input": [
      "function my_bench(args...)\n",
      "    return benchmark(args...)[[\"Benchmark\", \"Iterations\", \"AverageWall\", \n",
      "                               \"TotalWall\", \"MaxWall\", \"MinWall\"]]\n",
      "end\n",
      "\n",
      "function new_bench(n::Int, m::Int=10)\n",
      "    # Create benchmark df for euler problems 1 to n by running m times\n",
      "    df = my_bench(euler1, \"Problems\", \"euler1()\", m)\n",
      "    for i=2:n\n",
      "        df = [df; my_bench(eval(parse(\"euler$i\")), \"Problems\", \"euler$i()\", m)]\n",
      "    end\n",
      "    return df\n",
      "end\n",
      "\n",
      "\n",
      "function new_bench(n::Int, m::Array{Int, 1})\n",
      "    # Create benchmark df for euler problems 1 to n by running m times\n",
      "    if length(m) != n\n",
      "        error(\"length(m) must equal n\")\n",
      "    end\n",
      "    df = my_bench(euler1, \"Problems\", \"euler1()\", m[1])\n",
      "    for i=2:n\n",
      "        df = [df; my_bench(eval(parse(\"euler$i\")), \"Problems\", \"euler$i()\", m[i])]\n",
      "    end\n",
      "    return df\n",
      "end"
     ],
     "language": "python",
     "metadata": {},
     "outputs": [
      {
       "metadata": {},
       "output_type": "pyout",
       "prompt_number": 9,
       "text": [
        "# methods for generic function new_bench\n",
        "new_bench(n::Int64) at In[9]:8\n",
        "new_bench(n::Int64,m::Int64) at In[9]:8\n",
        "new_bench(n::Int64,m::Array{Int64,1}) at In[9]:18"
       ]
      }
     ],
     "prompt_number": 9
    },
    {
     "cell_type": "markdown",
     "metadata": {},
     "source": [
      "## Tools"
     ]
    },
    {
     "cell_type": "code",
     "collapsed": false,
     "input": [
      "############ Prime Numbers\n",
      "function primes1(bound::Integer)\n",
      "    primes = Array(Int64, bound)\n",
      "    i = 1\n",
      "    worthtesting = trues(bound)\n",
      "    worthtesting[1] = false\n",
      "    for index in 2:bound\n",
      "        if worthtesting[index] && isprime(index)\n",
      "            primes[i] = index\n",
      "            i += 1\n",
      "            multiples = index:index:(index * fld(bound, index))\n",
      "            for multiple in multiples\n",
      "                worthtesting[multiple] = false\n",
      "            end\n",
      "        end\n",
      "    end\n",
      "    return primes[1:(i - 1)]\n",
      "end\n",
      "\n",
      "\n",
      "function primes2(n::Int)\n",
      "    s = falses(n)\n",
      "    n < 2 && return s; s[2] = true\n",
      "    n < 3 && return s; s[3] = true\n",
      "    r = ifloor(sqrt(n))\n",
      "    for x = 1:r\n",
      "        xx = x*x\n",
      "        for y = 1:r\n",
      "            yy = y*y\n",
      "            i, j, k = 4xx+yy, 3xx+yy, 3xx-yy\n",
      "            i <= n && (s[i] $= (i%12==1)|(i%12==5))\n",
      "            j <= n && (s[j] $= (j%12==7))\n",
      "            1 <= k <= n && (s[k] $= (x>y)&(k%12==11))\n",
      "        end\n",
      "    end\n",
      "    for i = 5:r\n",
      "        s[i] && (s[i*i:i*i:n] = false)\n",
      "    end\n",
      "    return [1:n][s]\n",
      "end\n",
      "\n",
      "\n",
      "############ Fibonacci Numbers\n",
      "function fibn(n)\n",
      "    # Yield the first n fibonacci numbers\n",
      "    if n < 2 && n > 0\n",
      "        return n\n",
      "    end\n",
      "    x = zeros(n)\n",
      "    x[1:2] = [1, 2]\n",
      "    for i=3:n\n",
      "        x[i] = x[i-1] + x[i-2]\n",
      "    end\n",
      "    return x\n",
      "end\n",
      "\n",
      "\n",
      "function fiblt(n)\n",
      "    # List all the fibonacci numbers less than n\n",
      "    if n <= 3\n",
      "        return fibn(n)\n",
      "    end\n",
      "    x = [1 2]\n",
      "    new = 5\n",
      "    ind = 3\n",
      "    while new <= n\n",
      "        new = x[ind-1] + x[ind-2]\n",
      "        ind += 1\n",
      "        x = [x new]\n",
      "    end\n",
      "    return x \n",
      "end\n",
      "\n",
      "\n",
      "############ Palindromes\n",
      "function is_palindrome(n::Integer)\n",
      "    x = string(n)\n",
      "    return x == reverse(x)\n",
      "end\n",
      "\n",
      "\n",
      "############ Pascal's triange\n",
      "function pascal(n)\n",
      "    # Yield up to row ``n`` of Pascal's triangle, one row at a time.\n",
      "    # The first row is row 0.\n",
      "    function newrow(row)\n",
      "        #Calculate a row of Pascal's triangle given the previous one.\"\n",
      "        prev = 0\n",
      "        new = zeros(length(row)+1)\n",
      "        ind = 1\n",
      "        for x in row\n",
      "            new[ind] = prev + x\n",
      "            prev = x\n",
      "            ind += 1\n",
      "        end\n",
      "        new[end] = 1\n",
      "        return new\n",
      "    end\n",
      "\n",
      "    prevrow = [1]\n",
      "    produce(prevrow)\n",
      "    for x=1:n\n",
      "        prevrow = newrow(prevrow)\n",
      "        produce(prevrow)\n",
      "    end\n",
      "end\n",
      "\n",
      "\n",
      "function pascal_row(n::Int)\n",
      "    # Return nth row of pascal's triangle\n",
      "    p_temp() = pascal(n)\n",
      "    p = Task(p_temp)\n",
      "    row = 0\n",
      "    for i=1:n\n",
      "        row = consume(p)\n",
      "    end\n",
      "    return row\n",
      "end\n",
      "\n",
      "\n",
      "############ divisors\n",
      "divisor_count(n) = prod(collect(values(factor(n))) + 1)\n",
      "\n",
      "function divisors(x::Int)\n",
      "    i = 2::Int\n",
      "    divs = [1]::Array{Int, 1}\n",
      "    for i=2:(ceil(sqrt(x)) + 1)\n",
      "        if mod(x, i) == 0\n",
      "            if i != x / i\n",
      "                append!(divs, [i, x / i])\n",
      "            else\n",
      "                append!(divs, [i])\n",
      "            end\n",
      "        end\n",
      "    end\n",
      "    append!(divs, [x])\n",
      "    return unique(sort(divs))\n",
      "end"
     ],
     "language": "python",
     "metadata": {},
     "outputs": [
      {
       "metadata": {},
       "output_type": "pyout",
       "prompt_number": 10,
       "text": [
        "# methods for generic function divisors\n",
        "divisors(x::Int64) at In[10]:125"
       ]
      }
     ],
     "prompt_number": 10
    },
    {
     "cell_type": "code",
     "collapsed": false,
     "input": [
      "f3() = divisors(int(1e8))\n",
      "\n",
      "my_bench(f3, \"Tools\", \"divisors(int(1e8))\", 200)"
     ],
     "language": "python",
     "metadata": {},
     "outputs": [
      {
       "metadata": {},
       "output_type": "pyout",
       "prompt_number": 11,
       "text": [
        "1x6 DataFrame:\n",
        "                   Benchmark Iterations AverageWall TotalWall   MaxWall     MinWall\n",
        "[1,]    \"divisors(int(1e8))\"        200 0.000531076  0.106215 0.0142547 0.000450584\n"
       ]
      }
     ],
     "prompt_number": 11
    },
    {
     "cell_type": "code",
     "collapsed": false,
     "input": [
      "# f1() = primes1(10000000)\n",
      "# f2() = primes2(10000000)\n",
      "\n",
      "# compare([f1, f2], 10)"
     ],
     "language": "python",
     "metadata": {},
     "outputs": [
      {
       "metadata": {},
       "output_type": "pyout",
       "prompt_number": 12,
       "text": [
        "2x4 DataFrame:\n",
        "        Function Elapsed Relative Replications\n",
        "[1,]        \"f1\" 39.4899  13.9043           10\n",
        "[2,]        \"f2\" 2.84011      1.0           10\n"
       ]
      }
     ],
     "prompt_number": 12
    },
    {
     "cell_type": "markdown",
     "metadata": {},
     "source": [
      "## Problem 1\n",
      "\n",
      "If we list all the natural numbers below 10 that are multiples of 3 or 5, we get 3, 5, 6 and 9. The sum of these multiples is 23.\n",
      "\n",
      "Find the sum of all the multiples of 3 or 5 below 1000."
     ]
    },
    {
     "cell_type": "code",
     "collapsed": false,
     "input": [
      "# Problem 1\n",
      "function euler1()\n",
      "    ans = 0.0\n",
      "    for i=1:999\n",
      "        if mod(i, 3) == 0 || mod(i, 5) == 0\n",
      "            ans += i\n",
      "        end\n",
      "    end\n",
      "    return ans\n",
      "end\n"
     ],
     "language": "python",
     "metadata": {},
     "outputs": [
      {
       "metadata": {},
       "output_type": "pyout",
       "prompt_number": 13,
       "text": [
        "# methods for generic function euler1\n",
        "euler1() at In[13]:3"
       ]
      }
     ],
     "prompt_number": 13
    },
    {
     "cell_type": "code",
     "collapsed": false,
     "input": [
      "# Problem 1\n",
      "function euler1b()\n",
      "    x = [1:999];\n",
      "    threes = x[mod(x, 3) .== 0]\n",
      "    fives = x[mod(x, 5) .== 0]\n",
      "    both = threes[mod(threes, 5) .== 0]\n",
      "    ans = sum(threes) + sum(fives) - sum(both)\n",
      "    return ans\n",
      "end"
     ],
     "language": "python",
     "metadata": {},
     "outputs": [
      {
       "metadata": {},
       "output_type": "pyout",
       "prompt_number": 14,
       "text": [
        "# methods for generic function euler1b\n",
        "euler1b() at In[14]:3"
       ]
      }
     ],
     "prompt_number": 14
    },
    {
     "cell_type": "code",
     "collapsed": false,
     "input": [
      "compare([euler1, euler1b], 1000)"
     ],
     "language": "python",
     "metadata": {},
     "outputs": [
      {
       "metadata": {},
       "output_type": "pyout",
       "prompt_number": 15,
       "text": [
        "2x4 DataFrame:\n",
        "         Function    Elapsed Relative Replications\n",
        "[1,]     \"euler1\" 0.00239022      1.0         1000\n",
        "[2,]    \"euler1b\"   0.125067  52.3244         1000\n"
       ]
      }
     ],
     "prompt_number": 15
    },
    {
     "cell_type": "code",
     "collapsed": false,
     "input": [
      "euler1()"
     ],
     "language": "python",
     "metadata": {},
     "outputs": [
      {
       "metadata": {},
       "output_type": "pyout",
       "prompt_number": 16,
       "text": [
        "233168.0"
       ]
      }
     ],
     "prompt_number": 16
    },
    {
     "cell_type": "markdown",
     "metadata": {},
     "source": [
      "## Problem 2\n",
      "\n",
      "Each new term in the Fibonacci sequence is generated by adding the previous two terms. By starting with 1 and 2, the first 10 terms will be:\n",
      "\n",
      "$$1, 2, 3, 5, 8, 13, 21, 34, 55, 89, \\dots $$\n",
      "\n",
      "By considering the terms in the Fibonacci sequence whose values do not exceed four million, find the sum of the even-valued terms."
     ]
    },
    {
     "cell_type": "code",
     "collapsed": false,
     "input": [
      "# Problem 2\n",
      "function euler2()\n",
      "    x = fiblt(4e6)\n",
      "    return sum(x[mod(x, 2) .== 0])\n",
      "end\n",
      "    "
     ],
     "language": "python",
     "metadata": {},
     "outputs": [
      {
       "metadata": {},
       "output_type": "pyout",
       "prompt_number": 17,
       "text": [
        "# methods for generic function euler2\n",
        "euler2() at In[17]:3"
       ]
      }
     ],
     "prompt_number": 17
    },
    {
     "cell_type": "code",
     "collapsed": false,
     "input": [
      "euler2()"
     ],
     "language": "python",
     "metadata": {},
     "outputs": [
      {
       "metadata": {},
       "output_type": "pyout",
       "prompt_number": 18,
       "text": [
        "4613732"
       ]
      }
     ],
     "prompt_number": 18
    },
    {
     "cell_type": "code",
     "collapsed": false,
     "input": [
      "my_bench(euler2, \"Problems\", \"euler2()\", 1000)"
     ],
     "language": "python",
     "metadata": {},
     "outputs": [
      {
       "metadata": {},
       "output_type": "pyout",
       "prompt_number": 19,
       "text": [
        "1x6 DataFrame:\n",
        "         Benchmark Iterations AverageWall TotalWall   MaxWall     MinWall\n",
        "[1,]    \"euler2()\"       1000 0.000296183  0.296183 0.0149979 0.000251607\n"
       ]
      }
     ],
     "prompt_number": 19
    },
    {
     "cell_type": "markdown",
     "metadata": {},
     "source": [
      "## Problem 3\n",
      "\n",
      "The prime factors of 13195 are 5, 7, 13 and 29.\n",
      "\n",
      "What is the largest prime factor of the number 600851475143 ?"
     ]
    },
    {
     "cell_type": "code",
     "collapsed": false,
     "input": [
      "euler3() = max(keys(factor(600851475143)))"
     ],
     "language": "python",
     "metadata": {},
     "outputs": [
      {
       "metadata": {},
       "output_type": "pyout",
       "prompt_number": 20,
       "text": [
        "# methods for generic function euler3\n",
        "euler3() at In[20]:1"
       ]
      }
     ],
     "prompt_number": 20
    },
    {
     "cell_type": "code",
     "collapsed": false,
     "input": [
      "euler3()"
     ],
     "language": "python",
     "metadata": {},
     "outputs": [
      {
       "metadata": {},
       "output_type": "pyout",
       "prompt_number": 21,
       "text": [
        "6857"
       ]
      }
     ],
     "prompt_number": 21
    },
    {
     "cell_type": "code",
     "collapsed": false,
     "input": [
      "my_bench(euler3, \"Problems\", \"euler3()\", 1000)"
     ],
     "language": "python",
     "metadata": {},
     "outputs": [
      {
       "metadata": {},
       "output_type": "pyout",
       "prompt_number": 22,
       "text": [
        "1x6 DataFrame:\n",
        "         Benchmark Iterations AverageWall  TotalWall   MaxWall  MinWall\n",
        "[1,]    \"euler3()\"       1000  3.80918e-6 0.00380918 1.3983e-5 3.496e-6\n"
       ]
      }
     ],
     "prompt_number": 22
    },
    {
     "cell_type": "markdown",
     "metadata": {},
     "source": [
      "## Problem 4\n",
      "\n",
      "A palindromic number reads the same both ways. The largest palindrome made from the product of two 2-digit numbers is 9009 = 91 \u00d7 99.\n",
      "\n",
      "Find the largest palindrome made from the product of two 3-digit numbers.\n"
     ]
    },
    {
     "cell_type": "code",
     "collapsed": false,
     "input": [
      "function euler4()\n",
      "    ans = 0\n",
      "    for i=100:999\n",
      "        for j=i:999\n",
      "            test = i * j\n",
      "            ans = is_palindrome(test) && test > ans ? test : ans\n",
      "        end\n",
      "    end\n",
      "    return ans\n",
      "end"
     ],
     "language": "python",
     "metadata": {},
     "outputs": [
      {
       "metadata": {},
       "output_type": "pyout",
       "prompt_number": 23,
       "text": [
        "# methods for generic function euler4\n",
        "euler4() at In[23]:2"
       ]
      }
     ],
     "prompt_number": 23
    },
    {
     "cell_type": "code",
     "collapsed": false,
     "input": [
      "euler4()"
     ],
     "language": "python",
     "metadata": {},
     "outputs": [
      {
       "metadata": {},
       "output_type": "pyout",
       "prompt_number": 24,
       "text": [
        "906609"
       ]
      }
     ],
     "prompt_number": 24
    },
    {
     "cell_type": "code",
     "collapsed": false,
     "input": [
      "my_bench(euler4, \"Problems\", \"euler4()\", 4)"
     ],
     "language": "python",
     "metadata": {},
     "outputs": [
      {
       "metadata": {},
       "output_type": "pyout",
       "prompt_number": 95,
       "text": [
        "1x6 DataFrame:\n",
        "         Benchmark Iterations AverageWall TotalWall  MaxWall  MinWall\n",
        "[1,]    \"euler4()\"          4    0.284491   1.13796 0.310205 0.270629\n"
       ]
      }
     ],
     "prompt_number": 95
    },
    {
     "cell_type": "markdown",
     "metadata": {},
     "source": [
      "## Problem 5\n",
      "\n",
      "2520 is the smallest number that can be divided by each of the numbers from 1 to 10 without any remainder.\n",
      "\n",
      "What is the smallest positive number that is evenly divisible by all of the numbers from 1 to 20?"
     ]
    },
    {
     "cell_type": "code",
     "collapsed": false,
     "input": [
      "function euler5a()\n",
      "    ans = 20\n",
      "    done = false\n",
      "    ind = 1\n",
      "    while done == false\n",
      "        ans = ind * 20\n",
      "        temp = map([1:20]) do x\n",
      "            ans % x \n",
      "            end\n",
      "        done = sum(temp) == 0\n",
      "        ind += 1\n",
      "    end\n",
      "    return ans\n",
      "end\n",
      "\n",
      "function euler5()\n",
      "    return reduce(lcm, 1:20)\n",
      "end"
     ],
     "language": "python",
     "metadata": {},
     "outputs": [
      {
       "metadata": {},
       "output_type": "pyout",
       "prompt_number": 26,
       "text": [
        "# methods for generic function euler5\n",
        "euler5() at In[26]:17"
       ]
      }
     ],
     "prompt_number": 26
    },
    {
     "cell_type": "code",
     "collapsed": false,
     "input": [
      "euler5()"
     ],
     "language": "python",
     "metadata": {},
     "outputs": [
      {
       "metadata": {},
       "output_type": "pyout",
       "prompt_number": 27,
       "text": [
        "232792560"
       ]
      }
     ],
     "prompt_number": 27
    },
    {
     "cell_type": "code",
     "collapsed": false,
     "input": [
      "my_bench(euler5, \"Problems\", \"euler5()\", 1000)"
     ],
     "language": "python",
     "metadata": {},
     "outputs": [
      {
       "metadata": {},
       "output_type": "pyout",
       "prompt_number": 28,
       "text": [
        "1x6 DataFrame:\n",
        "         Benchmark Iterations AverageWall  TotalWall   MaxWall  MinWall\n",
        "[1,]    \"euler5()\"       1000  2.13486e-6 0.00213486 1.6827e-5 1.516e-6\n"
       ]
      }
     ],
     "prompt_number": 28
    },
    {
     "cell_type": "markdown",
     "metadata": {},
     "source": [
      "## Problem 6\n",
      "\n",
      "The sum of the squares of the first ten natural numbers is,\n",
      "\n",
      "$$1^2 + 2^2 + ... + 10^2 = 385$$\n",
      "\n",
      "The square of the sum of the first ten natural numbers is,\n",
      "\n",
      "$$(1 + 2 + \\dotsb + 10)2 = 552 = 3025$$\n",
      "\n",
      "Hence the difference between the sum of the squares of the first ten natural numbers and the square of the sum is $3025 \u2212 385 = 2640$.\n",
      "\n",
      "Find the difference between the sum of the squares of the first one hundred natural numbers and the square of the sum."
     ]
    },
    {
     "cell_type": "code",
     "collapsed": false,
     "input": [
      "function euler6()\n",
      "    sum_squares = sum([1:100].^2)\n",
      "    square_sum = sum([1:100])^2\n",
      "    return square_sum - sum_squares\n",
      "end"
     ],
     "language": "python",
     "metadata": {},
     "outputs": [
      {
       "metadata": {},
       "output_type": "pyout",
       "prompt_number": 29,
       "text": [
        "# methods for generic function euler6\n",
        "euler6() at In[29]:2"
       ]
      }
     ],
     "prompt_number": 29
    },
    {
     "cell_type": "code",
     "collapsed": false,
     "input": [
      "euler6()"
     ],
     "language": "python",
     "metadata": {},
     "outputs": [
      {
       "metadata": {},
       "output_type": "pyout",
       "prompt_number": 30,
       "text": [
        "25164150"
       ]
      }
     ],
     "prompt_number": 30
    },
    {
     "cell_type": "code",
     "collapsed": false,
     "input": [
      "my_bench(euler6, \"Problems\", \"euler6()\", 1000)"
     ],
     "language": "python",
     "metadata": {},
     "outputs": [
      {
       "metadata": {},
       "output_type": "pyout",
       "prompt_number": 31,
       "text": [
        "1x6 DataFrame:\n",
        "         Benchmark Iterations AverageWall  TotalWall   MaxWall  MinWall\n",
        "[1,]    \"euler6()\"       1000  3.10604e-6 0.00310604 1.6441e-5 1.371e-6\n"
       ]
      }
     ],
     "prompt_number": 31
    },
    {
     "cell_type": "markdown",
     "metadata": {},
     "source": [
      "## Problem 7\n",
      "\n",
      "By listing the first six prime numbers: $2, 3, 5, 7, 11, \\text{ and } 13$, we can see that the 6th prime is 13.\n",
      "\n",
      "What is the 10001st prime number?"
     ]
    },
    {
     "cell_type": "code",
     "collapsed": false,
     "input": [
      "function euler7() \n",
      "    n = 10001\n",
      "    p, f = 5, 1\n",
      "    while n > 3\n",
      "        p += 3-f\n",
      "        f = -f\n",
      "        if isprime(p) \n",
      "            n -= 1 \n",
      "        end\n",
      "    end\n",
      "    return p\n",
      "end"
     ],
     "language": "python",
     "metadata": {},
     "outputs": [
      {
       "metadata": {},
       "output_type": "pyout",
       "prompt_number": 32,
       "text": [
        "# methods for generic function euler7\n",
        "euler7() at In[32]:2"
       ]
      }
     ],
     "prompt_number": 32
    },
    {
     "cell_type": "code",
     "collapsed": false,
     "input": [
      "euler7()"
     ],
     "language": "python",
     "metadata": {},
     "outputs": [
      {
       "metadata": {},
       "output_type": "pyout",
       "prompt_number": 33,
       "text": [
        "104743"
       ]
      }
     ],
     "prompt_number": 33
    },
    {
     "cell_type": "code",
     "collapsed": false,
     "input": [
      "my_bench(euler7, \"Problems\", \"euler7()\", 10)"
     ],
     "language": "python",
     "metadata": {},
     "outputs": [
      {
       "metadata": {},
       "output_type": "pyout",
       "prompt_number": 34,
       "text": [
        "1x6 DataFrame:\n",
        "         Benchmark Iterations AverageWall TotalWall   MaxWall   MinWall\n",
        "[1,]    \"euler7()\"         10   0.0720213  0.720213 0.0907403 0.0632724\n"
       ]
      }
     ],
     "prompt_number": 34
    },
    {
     "cell_type": "markdown",
     "metadata": {},
     "source": [
      "## Problem 8\n",
      "\n",
      "Find the greatest product of five consecutive digits in the 1000-digit number.\n",
      "\n",
      "73167176531330624919225119674426574742355349194934\n",
      "96983520312774506326239578318016984801869478851843\n",
      "85861560789112949495459501737958331952853208805511\n",
      "12540698747158523863050715693290963295227443043557\n",
      "66896648950445244523161731856403098711121722383113\n",
      "62229893423380308135336276614282806444486645238749\n",
      "30358907296290491560440772390713810515859307960866\n",
      "70172427121883998797908792274921901699720888093776\n",
      "65727333001053367881220235421809751254540594752243\n",
      "52584907711670556013604839586446706324415722155397\n",
      "53697817977846174064955149290862569321978468622482\n",
      "83972241375657056057490261407972968652414535100474\n",
      "82166370484403199890008895243450658541227588666881\n",
      "16427171479924442928230863465674813919123162824586\n",
      "17866458359124566529476545682848912883142607690042\n",
      "24219022671055626321111109370544217506941658960408\n",
      "07198403850962455444362981230987879927244284909188\n",
      "84580156166097919133875499200524063689912560717606\n",
      "05886116467109405077541002256983155200055935729725\n",
      "71636269561882670428252483600823257530420752963450\n"
     ]
    },
    {
     "cell_type": "code",
     "collapsed": false,
     "input": [
      "function euler8()\n",
      "    ans = 0\n",
      "    num_str = replace(readall(open(\"data7.txt\")), '\\n', \"\")\n",
      "    len_str = length(num_str)\n",
      "    for i=5:len_str\n",
      "        s1 = num_str[i-4:i]\n",
      "        test = prod(x -> int(string(x)), collect(s1))\n",
      "        ans = test > ans ? test: ans\n",
      "    end\n",
      "    return ans\n",
      "end"
     ],
     "language": "python",
     "metadata": {},
     "outputs": [
      {
       "metadata": {},
       "output_type": "pyout",
       "prompt_number": 35,
       "text": [
        "# methods for generic function euler8\n",
        "euler8() at In[35]:2"
       ]
      }
     ],
     "prompt_number": 35
    },
    {
     "cell_type": "code",
     "collapsed": false,
     "input": [
      "euler8()"
     ],
     "language": "python",
     "metadata": {},
     "outputs": [
      {
       "metadata": {},
       "output_type": "pyout",
       "prompt_number": 36,
       "text": [
        "40824"
       ]
      }
     ],
     "prompt_number": 36
    },
    {
     "cell_type": "code",
     "collapsed": false,
     "input": [
      "my_bench(euler8, \"Problems\", \"euler8()\", 100)"
     ],
     "language": "python",
     "metadata": {},
     "outputs": [
      {
       "metadata": {},
       "output_type": "pyout",
       "prompt_number": 37,
       "text": [
        "1x6 DataFrame:\n",
        "         Benchmark Iterations AverageWall TotalWall   MaxWall    MinWall\n",
        "[1,]    \"euler8()\"        100  0.00489565  0.489565 0.0464919 0.00244017\n"
       ]
      }
     ],
     "prompt_number": 37
    },
    {
     "cell_type": "markdown",
     "metadata": {},
     "source": [
      "## Problem 9\n",
      "\n",
      "\n",
      "A Pythagorean triplet is a set of three natural numbers, a  b  c, for which,\n",
      "\n",
      "$$a^2 + b^2 = c^2$$\n",
      "\n",
      "For example, $3^2 + 4^2 = 9 + 16 = 25 = 5^2$.\n",
      "\n",
      "There exists exactly one Pythagorean triplet for which $a + b + c = 1000$.\n",
      "\n",
      "Find the product abc."
     ]
    },
    {
     "cell_type": "code",
     "collapsed": false,
     "input": [
      "function euler9()\n",
      "    for a=1:1000\n",
      "        for b=a:1000\n",
      "            c = sqrt(a^2 + b^2)\n",
      "            if a + b + c == 1000\n",
      "                return int(a * b * c)\n",
      "            end\n",
      "        end\n",
      "    end\n",
      "end"
     ],
     "language": "python",
     "metadata": {},
     "outputs": [
      {
       "metadata": {},
       "output_type": "pyout",
       "prompt_number": 38,
       "text": [
        "# methods for generic function euler9\n",
        "euler9() at In[38]:2"
       ]
      }
     ],
     "prompt_number": 38
    },
    {
     "cell_type": "code",
     "collapsed": false,
     "input": [
      "euler9()"
     ],
     "language": "python",
     "metadata": {},
     "outputs": [
      {
       "metadata": {},
       "output_type": "pyout",
       "prompt_number": 39,
       "text": [
        "31875000"
       ]
      }
     ],
     "prompt_number": 39
    },
    {
     "cell_type": "code",
     "collapsed": false,
     "input": [
      "my_bench(euler9, \"Problems\", \"euler9()\", 90)"
     ],
     "language": "python",
     "metadata": {},
     "outputs": [
      {
       "metadata": {},
       "output_type": "pyout",
       "prompt_number": 97,
       "text": [
        "1x6 DataFrame:\n",
        "         Benchmark Iterations AverageWall TotalWall   MaxWall   MinWall\n",
        "[1,]    \"euler9()\"         90   0.0107441  0.966965 0.0111413 0.0104253\n"
       ]
      }
     ],
     "prompt_number": 97
    },
    {
     "cell_type": "markdown",
     "metadata": {},
     "source": [
      "## Problem 10\n",
      "\n",
      "\n",
      "The sum of the primes below $10$ is $2 + 3 + 5 + 7 = 17$.\n",
      "\n",
      "Find the sum of all the primes below two million."
     ]
    },
    {
     "cell_type": "code",
     "collapsed": false,
     "input": [
      "euler10() = sum(primes2(int(2e6)))"
     ],
     "language": "python",
     "metadata": {},
     "outputs": [
      {
       "metadata": {},
       "output_type": "pyout",
       "prompt_number": 41,
       "text": [
        "# methods for generic function euler10\n",
        "euler10() at In[41]:1"
       ]
      }
     ],
     "prompt_number": 41
    },
    {
     "cell_type": "code",
     "collapsed": false,
     "input": [
      "euler10()"
     ],
     "language": "python",
     "metadata": {},
     "outputs": [
      {
       "metadata": {},
       "output_type": "pyout",
       "prompt_number": 42,
       "text": [
        "142913828922"
       ]
      }
     ],
     "prompt_number": 42
    },
    {
     "cell_type": "code",
     "collapsed": false,
     "input": [
      "my_bench(euler10, \"Problems\", \"euler10()\", 15)"
     ],
     "language": "python",
     "metadata": {},
     "outputs": [
      {
       "metadata": {},
       "output_type": "pyout",
       "prompt_number": 98,
       "text": [
        "1x6 DataFrame:\n",
        "          Benchmark Iterations AverageWall TotalWall   MaxWall   MinWall\n",
        "[1,]    \"euler10()\"         15   0.0588453  0.882679 0.0980988 0.0445903\n"
       ]
      }
     ],
     "prompt_number": 98
    },
    {
     "cell_type": "markdown",
     "metadata": {},
     "source": [
      "## Problem 11\n",
      "\n",
      "In the $20 \\times 20$ grid below, four numbers along a diagonal line have been marked in red.\n",
      "\n",
      "08 02 22 97 38 15 00 40 00 75 04 05 07 78 52 12 50 77 91 08\n",
      "49 49 99 40 17 81 18 57 60 87 17 40 98 43 69 48 04 56 62 00\n",
      "81 49 31 73 55 79 14 29 93 71 40 67 53 88 30 03 49 13 36 65\n",
      "52 70 95 23 04 60 11 42 69 24 68 56 01 32 56 71 37 02 36 91\n",
      "22 31 16 71 51 67 63 89 41 92 36 54 22 40 40 28 66 33 13 80\n",
      "24 47 32 60 99 03 45 02 44 75 33 53 78 36 84 20 35 17 12 50\n",
      "32 98 81 28 64 23 67 10 26 38 40 67 59 54 70 66 18 38 64 70\n",
      "67 26 20 68 02 62 12 20 95 63 94 39 63 08 40 91 66 49 94 21\n",
      "24 55 58 05 66 73 99 26 97 17 78 78 96 83 14 88 34 89 63 72\n",
      "21 36 23 09 75 00 76 44 20 45 35 14 00 61 33 97 34 31 33 95\n",
      "78 17 53 28 22 75 31 67 15 94 03 80 04 62 16 14 09 53 56 92\n",
      "16 39 05 42 96 35 31 47 55 58 88 24 00 17 54 24 36 29 85 57\n",
      "86 56 00 48 35 71 89 07 05 44 44 37 44 60 21 58 51 54 17 58\n",
      "19 80 81 68 05 94 47 69 28 73 92 13 86 52 17 77 04 89 55 40\n",
      "04 52 08 83 97 35 99 16 07 97 57 32 16 26 26 79 33 27 98 66\n",
      "88 36 68 87 57 62 20 72 03 46 33 67 46 55 12 32 63 93 53 69\n",
      "04 42 16 73 38 25 39 11 24 94 72 18 08 46 29 32 40 62 76 36\n",
      "20 69 36 41 72 30 23 88 34 62 99 69 82 67 59 85 74 04 36 16\n",
      "20 73 35 29 78 31 90 01 74 31 49 71 48 86 81 16 23 57 05 54\n",
      "01 70 54 71 83 51 54 69 16 92 33 48 61 43 52 01 89 19 67 48\n",
      "\n",
      "The product of these numbers is $26 \\times 63 \\times 78 \\times 14 = 178896$.\n",
      "\n",
      "What is the greatest product of four adjacent numbers in any direction (up, down, left, right, or diagonally) in the $20 \\times 20$ grid?"
     ]
    },
    {
     "cell_type": "code",
     "collapsed": false,
     "input": [
      "grid = [08 02 22 97 38 15 00 40 00 75 04 05 07 78 52 12 50 77 91 08\n",
      "        49 49 99 40 17 81 18 57 60 87 17 40 98 43 69 48 04 56 62 00\n",
      "        81 49 31 73 55 79 14 29 93 71 40 67 53 88 30 03 49 13 36 65\n",
      "        52 70 95 23 04 60 11 42 69 24 68 56 01 32 56 71 37 02 36 91\n",
      "        22 31 16 71 51 67 63 89 41 92 36 54 22 40 40 28 66 33 13 80\n",
      "        24 47 32 60 99 03 45 02 44 75 33 53 78 36 84 20 35 17 12 50\n",
      "        32 98 81 28 64 23 67 10 26 38 40 67 59 54 70 66 18 38 64 70\n",
      "        67 26 20 68 02 62 12 20 95 63 94 39 63 08 40 91 66 49 94 21\n",
      "        24 55 58 05 66 73 99 26 97 17 78 78 96 83 14 88 34 89 63 72\n",
      "        21 36 23 09 75 00 76 44 20 45 35 14 00 61 33 97 34 31 33 95\n",
      "        78 17 53 28 22 75 31 67 15 94 03 80 04 62 16 14 09 53 56 92\n",
      "        16 39 05 42 96 35 31 47 55 58 88 24 00 17 54 24 36 29 85 57\n",
      "        86 56 00 48 35 71 89 07 05 44 44 37 44 60 21 58 51 54 17 58\n",
      "        19 80 81 68 05 94 47 69 28 73 92 13 86 52 17 77 04 89 55 40\n",
      "        04 52 08 83 97 35 99 16 07 97 57 32 16 26 26 79 33 27 98 66\n",
      "        88 36 68 87 57 62 20 72 03 46 33 67 46 55 12 32 63 93 53 69\n",
      "        04 42 16 73 38 25 39 11 24 94 72 18 08 46 29 32 40 62 76 36\n",
      "        20 69 36 41 72 30 23 88 34 62 99 69 82 67 59 85 74 04 36 16\n",
      "        20 73 35 29 78 31 90 01 74 31 49 71 48 86 81 16 23 57 05 54\n",
      "        01 70 54 71 83 51 54 69 16 92 33 48 61 43 52 01 89 19 67 48]\n",
      "\n",
      "function euler11()\n",
      "    ans = 0\n",
      "    for row=4:17\n",
      "        for col=4:17\n",
      "            #check up\n",
      "            vals = [prod(diag(grid[row-3:row, col-3:col]))  # ul\n",
      "                    prod([getindex(grid, row-i, col+i) for i=0:3])  # ur\n",
      "                    prod([getindex(grid, row+i, col-i) for i=0:3])  # dl\n",
      "                    prod(diag(grid[row:row+3, col:col+3]))  # dr\n",
      "                    prod(grid[row-3:row, col])  # u\n",
      "                    prod(grid[row, col:col+3])  # r\n",
      "                    prod(grid[row, col-3:col])  # l\n",
      "                    prod(grid[row:row+3, col])  # d\n",
      "                    ]\n",
      "            if max(vals) > ans\n",
      "                ans = max(vals)\n",
      "            end\n",
      "        end\n",
      "    end\n",
      "    return ans\n",
      "end"
     ],
     "language": "python",
     "metadata": {},
     "outputs": [
      {
       "metadata": {},
       "output_type": "pyout",
       "prompt_number": 44,
       "text": [
        "# methods for generic function euler11\n",
        "euler11() at In[44]:23"
       ]
      }
     ],
     "prompt_number": 44
    },
    {
     "cell_type": "code",
     "collapsed": false,
     "input": [
      "euler11()"
     ],
     "language": "python",
     "metadata": {},
     "outputs": [
      {
       "metadata": {},
       "output_type": "pyout",
       "prompt_number": 45,
       "text": [
        "70600674"
       ]
      }
     ],
     "prompt_number": 45
    },
    {
     "cell_type": "code",
     "collapsed": false,
     "input": [
      "my_bench(euler11, \"Problems\", \"euler11()\", 850)"
     ],
     "language": "python",
     "metadata": {},
     "outputs": [
      {
       "metadata": {},
       "output_type": "pyout",
       "prompt_number": 100,
       "text": [
        "1x6 DataFrame:\n",
        "          Benchmark Iterations AverageWall TotalWall   MaxWall     MinWall\n",
        "[1,]    \"euler11()\"        850  0.00113101  0.961358 0.0470032 0.000770293\n"
       ]
      }
     ],
     "prompt_number": 100
    },
    {
     "cell_type": "markdown",
     "metadata": {},
     "source": [
      "## Problem 12\n",
      "\n",
      "\n",
      "The sequence of triangle numbers is generated by adding the natural numbers. So the 7th triangle number would be $1 + 2 + 3 + 4 + 5 + 6 + 7 = 28$. The first ten terms would be: $1, 3, 6, 10, 15, 21, 28, 36, 45, 55, \\dots$\n",
      "\n",
      "Let us list the factors of the first seven triangle numbers:\n",
      "\n",
      ">1: 1\n",
      ">\n",
      ">3: 1,3\n",
      ">\n",
      ">6: 1,2,3,6\n",
      ">\n",
      ">10: 1,2,5,10\n",
      ">\n",
      ">15: 1,3,5,15\n",
      ">\n",
      ">21: 1,3,7,21\n",
      ">\n",
      ">28: 1,2,4,7,14,28\n",
      "\n",
      "We can see that 28 is the first triangle number to have over five divisors.\n",
      "\n",
      "What is the value of the first triangle number to have over five hundred divisors?"
     ]
    },
    {
     "cell_type": "code",
     "collapsed": false,
     "input": [
      "function tri_producer(nmax=int(1e6))\n",
      "    nums = [1:nmax]\n",
      "    ans = nums[1]\n",
      "    produce(ans)\n",
      "    for n=2:nmax\n",
      "        ans += nums[n]\n",
      "        produce(ans)\n",
      "    end\n",
      "end\n",
      "\n",
      "function euler12()\n",
      "    ans = 0\n",
      "    p = Task(tri_producer)\n",
      "    n_divs = 0\n",
      "    while n_divs < 500\n",
      "        num = consume(p)\n",
      "        divs = divisor_count(num)\n",
      "        if divs > n_divs\n",
      "            n_divs = divs\n",
      "            ans = num\n",
      "        end\n",
      "    end\n",
      "    return ans\n",
      "end\n"
     ],
     "language": "python",
     "metadata": {},
     "outputs": [
      {
       "metadata": {},
       "output_type": "pyout",
       "prompt_number": 47,
       "text": [
        "# methods for generic function euler12\n",
        "euler12() at In[47]:12"
       ]
      }
     ],
     "prompt_number": 47
    },
    {
     "cell_type": "code",
     "collapsed": false,
     "input": [
      "euler12()"
     ],
     "language": "python",
     "metadata": {},
     "outputs": [
      {
       "metadata": {},
       "output_type": "pyout",
       "prompt_number": 48,
       "text": [
        "76576500"
       ]
      }
     ],
     "prompt_number": 48
    },
    {
     "cell_type": "code",
     "collapsed": false,
     "input": [
      "my_bench(euler12, \"Problems\", \"euler12()\", 15)"
     ],
     "language": "python",
     "metadata": {},
     "outputs": [
      {
       "metadata": {},
       "output_type": "pyout",
       "prompt_number": 103,
       "text": [
        "1x6 DataFrame:\n",
        "          Benchmark Iterations AverageWall TotalWall   MaxWall   MinWall\n",
        "[1,]    \"euler12()\"         15   0.0565033  0.847549 0.0904684 0.0386716\n"
       ]
      }
     ],
     "prompt_number": 103
    },
    {
     "cell_type": "markdown",
     "metadata": {},
     "source": [
      "## Problem 13\n",
      "\n",
      "Work out the first ten digits of the sum of the following one-hundred 50-digit numbers.\n",
      "\n",
      ">37107287533902102798797998220837590246510135740250\n",
      ">\n",
      ">46376937677490009712648124896970078050417018260538\n",
      ">\n",
      ">74324986199524741059474233309513058123726617309629\n",
      ">\n",
      ">91942213363574161572522430563301811072406154908250\n",
      ">\n",
      ">23067588207539346171171980310421047513778063246676\n",
      ">\n",
      ">89261670696623633820136378418383684178734361726757\n",
      ">\n",
      ">28112879812849979408065481931592621691275889832738\n",
      ">\n",
      ">44274228917432520321923589422876796487670272189318\n",
      ">\n",
      ">47451445736001306439091167216856844588711603153276\n",
      ">\n",
      ">70386486105843025439939619828917593665686757934951\n",
      ">\n",
      ">62176457141856560629502157223196586755079324193331\n",
      ">\n",
      ">64906352462741904929101432445813822663347944758178\n",
      ">\n",
      ">92575867718337217661963751590579239728245598838407\n",
      ">\n",
      ">58203565325359399008402633568948830189458628227828\n",
      ">\n",
      ">80181199384826282014278194139940567587151170094390\n",
      ">\n",
      ">35398664372827112653829987240784473053190104293586\n",
      ">\n",
      ">86515506006295864861532075273371959191420517255829\n",
      ">\n",
      ">71693888707715466499115593487603532921714970056938\n",
      ">\n",
      ">54370070576826684624621495650076471787294438377604\n",
      ">\n",
      ">53282654108756828443191190634694037855217779295145\n",
      ">\n",
      ">36123272525000296071075082563815656710885258350721\n",
      ">\n",
      ">45876576172410976447339110607218265236877223636045\n",
      ">\n",
      ">17423706905851860660448207621209813287860733969412\n",
      ">\n",
      ">81142660418086830619328460811191061556940512689692\n",
      ">\n",
      ">51934325451728388641918047049293215058642563049483\n",
      ">\n",
      ">62467221648435076201727918039944693004732956340691\n",
      ">\n",
      ">15732444386908125794514089057706229429197107928209\n",
      ">\n",
      ">55037687525678773091862540744969844508330393682126\n",
      ">\n",
      ">18336384825330154686196124348767681297534375946515\n",
      ">\n",
      ">80386287592878490201521685554828717201219257766954\n",
      ">\n",
      ">78182833757993103614740356856449095527097864797581\n",
      ">\n",
      ">16726320100436897842553539920931837441497806860984\n",
      ">\n",
      ">48403098129077791799088218795327364475675590848030\n",
      ">\n",
      ">87086987551392711854517078544161852424320693150332\n",
      ">\n",
      ">59959406895756536782107074926966537676326235447210\n",
      ">\n",
      ">69793950679652694742597709739166693763042633987085\n",
      ">\n",
      ">41052684708299085211399427365734116182760315001271\n",
      ">\n",
      ">65378607361501080857009149939512557028198746004375\n",
      ">\n",
      ">35829035317434717326932123578154982629742552737307\n",
      ">\n",
      ">94953759765105305946966067683156574377167401875275\n",
      ">\n",
      ">88902802571733229619176668713819931811048770190271\n",
      ">\n",
      ">25267680276078003013678680992525463401061632866526\n",
      ">\n",
      ">36270218540497705585629946580636237993140746255962\n",
      ">\n",
      ">24074486908231174977792365466257246923322810917141\n",
      ">\n",
      ">91430288197103288597806669760892938638285025333403\n",
      ">\n",
      ">34413065578016127815921815005561868836468420090470\n",
      ">\n",
      ">23053081172816430487623791969842487255036638784583\n",
      ">\n",
      ">11487696932154902810424020138335124462181441773470\n",
      ">\n",
      ">63783299490636259666498587618221225225512486764533\n",
      ">\n",
      ">67720186971698544312419572409913959008952310058822\n",
      ">\n",
      ">95548255300263520781532296796249481641953868218774\n",
      ">\n",
      ">76085327132285723110424803456124867697064507995236\n",
      ">\n",
      ">37774242535411291684276865538926205024910326572967\n",
      ">\n",
      ">23701913275725675285653248258265463092207058596522\n",
      ">\n",
      ">29798860272258331913126375147341994889534765745501\n",
      ">\n",
      ">18495701454879288984856827726077713721403798879715\n",
      ">\n",
      ">38298203783031473527721580348144513491373226651381\n",
      ">\n",
      ">34829543829199918180278916522431027392251122869539\n",
      ">\n",
      ">40957953066405232632538044100059654939159879593635\n",
      ">\n",
      ">29746152185502371307642255121183693803580388584903\n",
      ">\n",
      ">41698116222072977186158236678424689157993532961922\n",
      ">\n",
      ">62467957194401269043877107275048102390895523597457\n",
      ">\n",
      ">23189706772547915061505504953922979530901129967519\n",
      ">\n",
      ">86188088225875314529584099251203829009407770775672\n",
      ">\n",
      ">11306739708304724483816533873502340845647058077308\n",
      ">\n",
      ">82959174767140363198008187129011875491310547126581\n",
      ">\n",
      ">97623331044818386269515456334926366572897563400500\n",
      ">\n",
      ">42846280183517070527831839425882145521227251250327\n",
      ">\n",
      ">55121603546981200581762165212827652751691296897789\n",
      ">\n",
      ">32238195734329339946437501907836945765883352399886\n",
      ">\n",
      ">75506164965184775180738168837861091527357929701337\n",
      ">\n",
      ">62177842752192623401942399639168044983993173312731\n",
      ">\n",
      ">32924185707147349566916674687634660915035914677504\n",
      ">\n",
      ">99518671430235219628894890102423325116913619626622\n",
      ">\n",
      ">73267460800591547471830798392868535206946944540724\n",
      ">\n",
      ">76841822524674417161514036427982273348055556214818\n",
      ">\n",
      ">97142617910342598647204516893989422179826088076852\n",
      ">\n",
      ">87783646182799346313767754307809363333018982642090\n",
      ">\n",
      ">10848802521674670883215120185883543223812876952786\n",
      ">\n",
      ">71329612474782464538636993009049310363619763878039\n",
      ">\n",
      ">62184073572399794223406235393808339651327408011116\n",
      ">\n",
      ">66627891981488087797941876876144230030984490851411\n",
      ">\n",
      ">60661826293682836764744779239180335110989069790714\n",
      ">\n",
      ">85786944089552990653640447425576083659976645795096\n",
      ">\n",
      ">66024396409905389607120198219976047599490197230297\n",
      ">\n",
      ">64913982680032973156037120041377903785566085089252\n",
      ">\n",
      ">16730939319872750275468906903707539413042652315011\n",
      ">\n",
      ">94809377245048795150954100921645863754710598436791\n",
      ">\n",
      ">78639167021187492431995700641917969777599028300699\n",
      ">\n",
      ">15368713711936614952811305876380278410754449733078\n",
      ">\n",
      ">40789923115535562561142322423255033685442488917353\n",
      ">\n",
      ">44889911501440648020369068063960672322193204149535\n",
      ">\n",
      ">41503128880339536053299340368006977710650566631954\n",
      ">\n",
      ">81234880673210146739058568557934581403627822703280\n",
      ">\n",
      ">82616570773948327592232845941706525094512325230608\n",
      ">\n",
      ">22918802058777319719839450180888072429661980811197\n",
      ">\n",
      ">77158542502016545090413245809786882778948721859617\n",
      ">\n",
      ">72107838435069186155435662884062257473692284509516\n",
      ">\n",
      ">20849603980134001723930671666823555245252804609722\n",
      ">\n",
      ">53503534226472524250874054075591789781264330331690\n"
     ]
    },
    {
     "cell_type": "code",
     "collapsed": false,
     "input": [
      "num_list = [BigInt(\"37107287533902102798797998220837590246510135740250\")\n",
      "BigInt(\"46376937677490009712648124896970078050417018260538\")\n",
      "BigInt(\"74324986199524741059474233309513058123726617309629\")\n",
      "BigInt(\"91942213363574161572522430563301811072406154908250\")\n",
      "BigInt(\"23067588207539346171171980310421047513778063246676\")\n",
      "BigInt(\"89261670696623633820136378418383684178734361726757\")\n",
      "BigInt(\"28112879812849979408065481931592621691275889832738\")\n",
      "BigInt(\"44274228917432520321923589422876796487670272189318\")\n",
      "BigInt(\"47451445736001306439091167216856844588711603153276\")\n",
      "BigInt(\"70386486105843025439939619828917593665686757934951\")\n",
      "BigInt(\"62176457141856560629502157223196586755079324193331\")\n",
      "BigInt(\"64906352462741904929101432445813822663347944758178\")\n",
      "BigInt(\"92575867718337217661963751590579239728245598838407\")\n",
      "BigInt(\"58203565325359399008402633568948830189458628227828\")\n",
      "BigInt(\"80181199384826282014278194139940567587151170094390\")\n",
      "BigInt(\"35398664372827112653829987240784473053190104293586\")\n",
      "BigInt(\"86515506006295864861532075273371959191420517255829\")\n",
      "BigInt(\"71693888707715466499115593487603532921714970056938\")\n",
      "BigInt(\"54370070576826684624621495650076471787294438377604\")\n",
      "BigInt(\"53282654108756828443191190634694037855217779295145\")\n",
      "BigInt(\"36123272525000296071075082563815656710885258350721\")\n",
      "BigInt(\"45876576172410976447339110607218265236877223636045\")\n",
      "BigInt(\"17423706905851860660448207621209813287860733969412\")\n",
      "BigInt(\"81142660418086830619328460811191061556940512689692\")\n",
      "BigInt(\"51934325451728388641918047049293215058642563049483\")\n",
      "BigInt(\"62467221648435076201727918039944693004732956340691\")\n",
      "BigInt(\"15732444386908125794514089057706229429197107928209\")\n",
      "BigInt(\"55037687525678773091862540744969844508330393682126\")\n",
      "BigInt(\"18336384825330154686196124348767681297534375946515\")\n",
      "BigInt(\"80386287592878490201521685554828717201219257766954\")\n",
      "BigInt(\"78182833757993103614740356856449095527097864797581\")\n",
      "BigInt(\"16726320100436897842553539920931837441497806860984\")\n",
      "BigInt(\"48403098129077791799088218795327364475675590848030\")\n",
      "BigInt(\"87086987551392711854517078544161852424320693150332\")\n",
      "BigInt(\"59959406895756536782107074926966537676326235447210\")\n",
      "BigInt(\"69793950679652694742597709739166693763042633987085\")\n",
      "BigInt(\"41052684708299085211399427365734116182760315001271\")\n",
      "BigInt(\"65378607361501080857009149939512557028198746004375\")\n",
      "BigInt(\"35829035317434717326932123578154982629742552737307\")\n",
      "BigInt(\"94953759765105305946966067683156574377167401875275\")\n",
      "BigInt(\"88902802571733229619176668713819931811048770190271\")\n",
      "BigInt(\"25267680276078003013678680992525463401061632866526\")\n",
      "BigInt(\"36270218540497705585629946580636237993140746255962\")\n",
      "BigInt(\"24074486908231174977792365466257246923322810917141\")\n",
      "BigInt(\"91430288197103288597806669760892938638285025333403\")\n",
      "BigInt(\"34413065578016127815921815005561868836468420090470\")\n",
      "BigInt(\"23053081172816430487623791969842487255036638784583\")\n",
      "BigInt(\"11487696932154902810424020138335124462181441773470\")\n",
      "BigInt(\"63783299490636259666498587618221225225512486764533\")\n",
      "BigInt(\"67720186971698544312419572409913959008952310058822\")\n",
      "BigInt(\"95548255300263520781532296796249481641953868218774\")\n",
      "BigInt(\"76085327132285723110424803456124867697064507995236\")\n",
      "BigInt(\"37774242535411291684276865538926205024910326572967\")\n",
      "BigInt(\"23701913275725675285653248258265463092207058596522\")\n",
      "BigInt(\"29798860272258331913126375147341994889534765745501\")\n",
      "BigInt(\"18495701454879288984856827726077713721403798879715\")\n",
      "BigInt(\"38298203783031473527721580348144513491373226651381\")\n",
      "BigInt(\"34829543829199918180278916522431027392251122869539\")\n",
      "BigInt(\"40957953066405232632538044100059654939159879593635\")\n",
      "BigInt(\"29746152185502371307642255121183693803580388584903\")\n",
      "BigInt(\"41698116222072977186158236678424689157993532961922\")\n",
      "BigInt(\"62467957194401269043877107275048102390895523597457\")\n",
      "BigInt(\"23189706772547915061505504953922979530901129967519\")\n",
      "BigInt(\"86188088225875314529584099251203829009407770775672\")\n",
      "BigInt(\"11306739708304724483816533873502340845647058077308\")\n",
      "BigInt(\"82959174767140363198008187129011875491310547126581\")\n",
      "BigInt(\"97623331044818386269515456334926366572897563400500\")\n",
      "BigInt(\"42846280183517070527831839425882145521227251250327\")\n",
      "BigInt(\"55121603546981200581762165212827652751691296897789\")\n",
      "BigInt(\"32238195734329339946437501907836945765883352399886\")\n",
      "BigInt(\"75506164965184775180738168837861091527357929701337\")\n",
      "BigInt(\"62177842752192623401942399639168044983993173312731\")\n",
      "BigInt(\"32924185707147349566916674687634660915035914677504\")\n",
      "BigInt(\"99518671430235219628894890102423325116913619626622\")\n",
      "BigInt(\"73267460800591547471830798392868535206946944540724\")\n",
      "BigInt(\"76841822524674417161514036427982273348055556214818\")\n",
      "BigInt(\"97142617910342598647204516893989422179826088076852\")\n",
      "BigInt(\"87783646182799346313767754307809363333018982642090\")\n",
      "BigInt(\"10848802521674670883215120185883543223812876952786\")\n",
      "BigInt(\"71329612474782464538636993009049310363619763878039\")\n",
      "BigInt(\"62184073572399794223406235393808339651327408011116\")\n",
      "BigInt(\"66627891981488087797941876876144230030984490851411\")\n",
      "BigInt(\"60661826293682836764744779239180335110989069790714\")\n",
      "BigInt(\"85786944089552990653640447425576083659976645795096\")\n",
      "BigInt(\"66024396409905389607120198219976047599490197230297\")\n",
      "BigInt(\"64913982680032973156037120041377903785566085089252\")\n",
      "BigInt(\"16730939319872750275468906903707539413042652315011\")\n",
      "BigInt(\"94809377245048795150954100921645863754710598436791\")\n",
      "BigInt(\"78639167021187492431995700641917969777599028300699\")\n",
      "BigInt(\"15368713711936614952811305876380278410754449733078\")\n",
      "BigInt(\"40789923115535562561142322423255033685442488917353\")\n",
      "BigInt(\"44889911501440648020369068063960672322193204149535\")\n",
      "BigInt(\"41503128880339536053299340368006977710650566631954\")\n",
      "BigInt(\"81234880673210146739058568557934581403627822703280\")\n",
      "BigInt(\"82616570773948327592232845941706525094512325230608\")\n",
      "BigInt(\"22918802058777319719839450180888072429661980811197\")\n",
      "BigInt(\"77158542502016545090413245809786882778948721859617\")\n",
      "BigInt(\"72107838435069186155435662884062257473692284509516\")\n",
      "BigInt(\"20849603980134001723930671666823555245252804609722\")\n",
      "BigInt(\"53503534226472524250874054075591789781264330331690\")];\n",
      "\n",
      "euler13() = int(string(sum(num_list))[1:10])"
     ],
     "language": "python",
     "metadata": {},
     "outputs": [
      {
       "metadata": {},
       "output_type": "pyout",
       "prompt_number": 50,
       "text": [
        "# methods for generic function euler13\n",
        "euler13() at In[50]:102"
       ]
      }
     ],
     "prompt_number": 50
    },
    {
     "cell_type": "code",
     "collapsed": false,
     "input": [
      "euler13()"
     ],
     "language": "python",
     "metadata": {},
     "outputs": [
      {
       "metadata": {},
       "output_type": "pyout",
       "prompt_number": 51,
       "text": [
        "5537376230"
       ]
      }
     ],
     "prompt_number": 51
    },
    {
     "cell_type": "code",
     "collapsed": false,
     "input": [
      "my_bench(euler13, \"Problems\", \"euler13()\", 1000)"
     ],
     "language": "python",
     "metadata": {},
     "outputs": [
      {
       "metadata": {},
       "output_type": "pyout",
       "prompt_number": 52,
       "text": [
        "1x6 DataFrame:\n",
        "          Benchmark Iterations AverageWall  TotalWall   MaxWall  MinWall\n",
        "[1,]    \"euler13()\"       1000  4.43585e-6 0.00443585 4.3527e-5 3.269e-6\n"
       ]
      }
     ],
     "prompt_number": 52
    },
    {
     "cell_type": "markdown",
     "metadata": {},
     "source": [
      "## Problem 14\n",
      "\n",
      "\n",
      "The following iterative sequence is defined for the set of positive integers:\n",
      "\n",
      "$n \\rightarrow  n/2$ (n is even)\n",
      "\n",
      "$n \\rightarrow 3n + 1$ (n is odd)\n",
      "\n",
      "Using the rule above and starting with 13, we generate the following sequence:\n",
      "\n",
      "13  40  20  10  5  16  8  4  2  1\n",
      "\n",
      "It can be seen that this sequence (starting at 13 and finishing at 1) contains 10 terms. Although it has not been proved yet (Collatz Problem), it is thought that all starting numbers finish at 1.\n",
      "\n",
      "Which starting number, under one million, produces the longest chain?\n",
      "\n",
      "NOTE: Once the chain starts the terms are allowed to go above one million."
     ]
    },
    {
     "cell_type": "code",
     "collapsed": false,
     "input": [
      "iseven(13)"
     ],
     "language": "python",
     "metadata": {},
     "outputs": [
      {
       "metadata": {},
       "output_type": "pyout",
       "prompt_number": 53,
       "text": [
        "false"
       ]
      }
     ],
     "prompt_number": 53
    },
    {
     "cell_type": "code",
     "collapsed": false,
     "input": [
      "function collatz(n::Int)\n",
      "    # Produce collatz sequence starting at n\n",
      "    old = n\n",
      "    new = n\n",
      "    chain = [n]\n",
      "    while new > 1\n",
      "        new::Int = iseven(old) ? old / 2 : 3 * old + 1\n",
      "        chain = [chain new]\n",
      "        old::Int = new\n",
      "    end\n",
      "    return chain\n",
      "end\n",
      "\n",
      "function collatz_length(n::Int)\n",
      "    ans = 1\n",
      "    new = n\n",
      "    while new > 1\n",
      "        ans += 1\n",
      "        new::Int = iseven(new) ? new / 2 : 3 * new + 1\n",
      "    end\n",
      "    return ans\n",
      "end\n",
      "    \n",
      "function euler14()\n",
      "    ans = 0\n",
      "    new_len = 0\n",
      "    old_len = 0 \n",
      "    for i=1:2:1e6\n",
      "        new_len::Int = collatz_length(int(i))\n",
      "        if new_len > old_len\n",
      "            ans::Int = i\n",
      "            old_len::Int = new_len\n",
      "        end\n",
      "    end\n",
      "    return ans\n",
      "end"
     ],
     "language": "python",
     "metadata": {},
     "outputs": [
      {
       "metadata": {},
       "output_type": "pyout",
       "prompt_number": 54,
       "text": [
        "# methods for generic function euler14\n",
        "euler14() at In[54]:25"
       ]
      }
     ],
     "prompt_number": 54
    },
    {
     "cell_type": "code",
     "collapsed": false,
     "input": [
      "euler14()"
     ],
     "language": "python",
     "metadata": {},
     "outputs": [
      {
       "metadata": {},
       "output_type": "pyout",
       "prompt_number": 55,
       "text": [
        "837799"
       ]
      }
     ],
     "prompt_number": 55
    },
    {
     "cell_type": "code",
     "collapsed": false,
     "input": [
      "my_bench(euler14, \"Problems\", \"euler14()\", 3)"
     ],
     "language": "python",
     "metadata": {},
     "outputs": [
      {
       "metadata": {},
       "output_type": "pyout",
       "prompt_number": 105,
       "text": [
        "1x6 DataFrame:\n",
        "          Benchmark Iterations AverageWall TotalWall MaxWall  MinWall\n",
        "[1,]    \"euler14()\"          3    0.317667     0.953 0.31917 0.316502\n"
       ]
      }
     ],
     "prompt_number": 105
    },
    {
     "cell_type": "markdown",
     "metadata": {},
     "source": [
      "## Problem 15\n",
      "\n",
      "Starting in the top left corner of a $2 \\times 2$ grid, there are 6 routes (without backtracking) to the bottom right corner.\n",
      "\n",
      "![Alt text](files/prob15_image.png)\n",
      "\n",
      "How many routes are there through a $20 \\times 20$ grid?"
     ]
    },
    {
     "cell_type": "code",
     "collapsed": false,
     "input": [
      "euler15() = int(pascal_row(20 + 21)[21])"
     ],
     "language": "python",
     "metadata": {},
     "outputs": [
      {
       "metadata": {},
       "output_type": "pyout",
       "prompt_number": 57,
       "text": [
        "# methods for generic function euler15\n",
        "euler15() at In[57]:1"
       ]
      }
     ],
     "prompt_number": 57
    },
    {
     "cell_type": "code",
     "collapsed": false,
     "input": [
      "euler15()"
     ],
     "language": "python",
     "metadata": {},
     "outputs": [
      {
       "metadata": {},
       "output_type": "pyout",
       "prompt_number": 58,
       "text": [
        "137846528820"
       ]
      }
     ],
     "prompt_number": 58
    },
    {
     "cell_type": "code",
     "collapsed": false,
     "input": [
      "my_bench(euler15, \"Problems\", \"euler15()\", 1000)"
     ],
     "language": "python",
     "metadata": {},
     "outputs": [
      {
       "metadata": {},
       "output_type": "pyout",
       "prompt_number": 59,
       "text": [
        "1x6 DataFrame:\n",
        "          Benchmark Iterations AverageWall TotalWall   MaxWall   MinWall\n",
        "[1,]    \"euler15()\"       1000  0.00016638   0.16638 0.0528614 5.9326e-5\n"
       ]
      }
     ],
     "prompt_number": 59
    },
    {
     "cell_type": "markdown",
     "metadata": {},
     "source": [
      "## Problem 16\n",
      "\n",
      "$2^{15} = 32768$ and the sum of its digits is $3 + 2 + 7 + 6 + 8 = 26$.\n",
      "\n",
      "What is the sum of the digits of the number $2^{1000}$?"
     ]
    },
    {
     "cell_type": "code",
     "collapsed": false,
     "input": [
      "function euler16()\n",
      "    x = BigInt(2)\n",
      "    big = string(x^1000)\n",
      "    ans = 0\n",
      "    for i in big\n",
      "        ans += int(string(i))\n",
      "    end\n",
      "    return ans\n",
      "end"
     ],
     "language": "python",
     "metadata": {},
     "outputs": [
      {
       "metadata": {},
       "output_type": "pyout",
       "prompt_number": 60,
       "text": [
        "# methods for generic function euler16\n",
        "euler16() at In[60]:2"
       ]
      }
     ],
     "prompt_number": 60
    },
    {
     "cell_type": "code",
     "collapsed": false,
     "input": [
      "euler16()"
     ],
     "language": "python",
     "metadata": {},
     "outputs": [
      {
       "metadata": {},
       "output_type": "pyout",
       "prompt_number": 61,
       "text": [
        "1366"
       ]
      }
     ],
     "prompt_number": 61
    },
    {
     "cell_type": "code",
     "collapsed": false,
     "input": [
      "my_bench(euler16, \"Problems\", \"euler16()\", 1000)"
     ],
     "language": "python",
     "metadata": {},
     "outputs": [
      {
       "metadata": {},
       "output_type": "pyout",
       "prompt_number": 62,
       "text": [
        "1x6 DataFrame:\n",
        "          Benchmark Iterations AverageWall TotalWall   MaxWall     MinWall\n",
        "[1,]    \"euler16()\"       1000 0.000201258  0.201258 0.0184704 0.000126693\n"
       ]
      }
     ],
     "prompt_number": 62
    },
    {
     "cell_type": "markdown",
     "metadata": {},
     "source": [
      "## Problem 17\n",
      "\n",
      "\n",
      "If the numbers 1 to 5 are written out in words: one, two, three, four, five, then there are 3 + 3 + 5 + 4 + 4 = 19 letters used in total.\n",
      "If all the numbers from 1 to 1000 (one thousand) inclusive were written out in words, how many letters would be used?\n",
      "\n",
      "NOTE: Do not count spaces or hyphens. For example, 342 (three hundred and forty-two) contains 23 letters and 115 (one hundred and fifteen) contains 20 letters. The use of \"and\" when writing out numbers is in compliance with British usage."
     ]
    },
    {
     "cell_type": "code",
     "collapsed": false,
     "input": [
      "function euler17()\n",
      "    # Note, I just did this by hand\n",
      "    one2nine = 3+3+5+4+4+3+5+5+4\n",
      "    ten2nineteen = 3+6+6+8+8+7+7+9+8+8\n",
      "    twenty2ninetynine = 10*(6+6+5+5+5+7+6+6) + 8*one2nine\n",
      "    \n",
      "    one2ninetynine = one2nine + ten2nineteen + twenty2ninetynine\n",
      "    \n",
      "    ## Just some simple tricks\n",
      "    #1-9 appears 100 times\n",
      "    internal = one2nine * 100\n",
      "    \n",
      "    #1-99 comes up 10 times\n",
      "    mains = one2ninetynine * 10\n",
      "    \n",
      "    hundereds = 7 * 9\n",
      "    \n",
      "    #hundered_and\n",
      "    hundered_and = 9*99*10\n",
      "    \n",
      "    one_thousand = 11\n",
      "    \n",
      "    internal + mains + hundereds + hundered_and + one_thousand\n",
      "end\n",
      "    \n",
      "    \n",
      "    "
     ],
     "language": "python",
     "metadata": {},
     "outputs": [
      {
       "metadata": {},
       "output_type": "pyout",
       "prompt_number": 63,
       "text": [
        "# methods for generic function euler17\n",
        "euler17() at In[63]:3"
       ]
      }
     ],
     "prompt_number": 63
    },
    {
     "cell_type": "code",
     "collapsed": false,
     "input": [
      "euler17()"
     ],
     "language": "python",
     "metadata": {},
     "outputs": [
      {
       "metadata": {},
       "output_type": "pyout",
       "prompt_number": 64,
       "text": [
        "21124"
       ]
      }
     ],
     "prompt_number": 64
    },
    {
     "cell_type": "code",
     "collapsed": false,
     "input": [
      "my_bench(euler17, \"Problems\", \"euler17()\", 1000)"
     ],
     "language": "python",
     "metadata": {},
     "outputs": [
      {
       "metadata": {},
       "output_type": "pyout",
       "prompt_number": 65,
       "text": [
        "1x6 DataFrame:\n",
        "          Benchmark Iterations AverageWall  TotalWall   MaxWall  MinWall\n",
        "[1,]    \"euler17()\"       1000  1.66385e-6 0.00166385 1.6189e-5 1.157e-6\n"
       ]
      }
     ],
     "prompt_number": 65
    },
    {
     "cell_type": "markdown",
     "metadata": {},
     "source": [
      "## Problem 18\n",
      "\n",
      "By starting at the top of the triangle below and moving to adjacent numbers on the row below, the maximum total from top to bottom is 23.\n",
      "\n",
      "3\n",
      "\n",
      "7 4\n",
      "\n",
      "2 4 6\n",
      "\n",
      "8 5 9 3\n",
      "\n",
      "That is, 3 + 7 + 4 + 9 = 23.\n",
      "\n",
      "Find the maximum total from top to bottom of the triangle below:\n",
      "\n",
      "75\n",
      "\n",
      "95 64\n",
      "\n",
      "17 47 82\n",
      "\n",
      "18 35 87 10\n",
      "\n",
      "20 04 82 47 65\n",
      "\n",
      "19 01 23 75 03 34\n",
      "\n",
      "88 02 77 73 07 63 67\n",
      "\n",
      "99 65 04 28 06 16 70 92\n",
      "\n",
      "41 41 26 56 83 40 80 70 33\n",
      "\n",
      "41 48 72 33 47 32 37 16 94 29\n",
      "\n",
      "53 71 44 65 25 43 91 52 97 51 14\n",
      "\n",
      "70 11 33 28 77 73 17 78 39 68 17 57\n",
      "\n",
      "91 71 52 38 17 14 91 43 58 50 27 29 48\n",
      "\n",
      "63 66 04 68 89 53 67 30 73 16 69 87 40 31\n",
      "\n",
      "04 62 98 27 23 09 70 98 73 93 38 53 60 04 23\n",
      "\n",
      "NOTE: As there are only 16384 routes, it is possible to solve this problem by trying every route. However, Problem 67, is the same challenge with a triangle containing one-hundred rows; it cannot be solved by brute force, and requires a clever method! ;o)"
     ]
    },
    {
     "cell_type": "code",
     "collapsed": false,
     "input": [
      "function euler18()\n",
      "    f = open(\"data18.txt\")\n",
      "    raw_data = split(readall(f), \"\\n\")\n",
      "    data = [map(int, split(i, \" \")) for i in raw_data]\n",
      "    close(f)\n",
      "    \n",
      "    while length(data) > 1\n",
      "        last_row = data[end]\n",
      "        second_to_last = data[end - 1]\n",
      "        for i=1:length(second_to_last)\n",
      "            second_to_last[i] += max(last_row[i:i+1])\n",
      "        end\n",
      "        data = data[1:end - 1]\n",
      "        data[end] = second_to_last\n",
      "    end\n",
      "    \n",
      "    return data[1]\n",
      "end"
     ],
     "language": "python",
     "metadata": {},
     "outputs": [
      {
       "metadata": {},
       "output_type": "pyout",
       "prompt_number": 80,
       "text": [
        "# methods for generic function euler18\n",
        "euler18() at In[80]:2"
       ]
      }
     ],
     "prompt_number": 80
    },
    {
     "cell_type": "code",
     "collapsed": false,
     "input": [
      "euler18()"
     ],
     "language": "python",
     "metadata": {},
     "outputs": [
      {
       "metadata": {},
       "output_type": "pyout",
       "prompt_number": 81,
       "text": [
        "1-element Array{Int64,1}:\n",
        " 1074"
       ]
      }
     ],
     "prompt_number": 81
    },
    {
     "cell_type": "code",
     "collapsed": false,
     "input": [
      "my_bench(euler18, \"Problems\", \"euler18()\", 1000)"
     ],
     "language": "python",
     "metadata": {},
     "outputs": [
      {
       "metadata": {},
       "output_type": "pyout",
       "prompt_number": 82,
       "text": [
        "1x6 DataFrame:\n",
        "          Benchmark Iterations AverageWall TotalWall   MaxWall   MinWall\n",
        "[1,]    \"euler18()\"       1000 0.000196962  0.196962 0.0393293 7.2786e-5\n"
       ]
      }
     ],
     "prompt_number": 82
    },
    {
     "cell_type": "markdown",
     "metadata": {},
     "source": [
      "## Problem 19\n",
      "\n",
      "You are given the following information, but you may prefer to do some research for yourself.\n",
      "\n",
      "* 1 Jan 1900 was a Monday.\n",
      "* Thirty days has September, April, June and November. All the rest have thirty-one, Saving February alone, Which has twenty-eight, rain or shine. And on leap years, twenty-nine.\n",
      "* A leap year occurs on any year evenly divisible by 4, but not on a century unless it is divisible by 400.\n",
      "\n",
      "How many Sundays fell on the first of the month during the twentieth century (1 Jan 1901 to 31 Dec 2000)?"
     ]
    },
    {
     "cell_type": "code",
     "collapsed": false,
     "input": [
      "using Datetime"
     ],
     "language": "python",
     "metadata": {},
     "outputs": [],
     "prompt_number": 83
    },
    {
     "cell_type": "code",
     "collapsed": false,
     "input": [
      "function euler19()\n",
      "    d1 = date(1901, 1, 1)\n",
      "    d2 = date(2000, 12, 31)\n",
      "    firstDaySunday = x -> dayofweek(x) == 0 && day(x) == 1\n",
      "    return length([d1:firstDaySunday:d2])\n",
      "end"
     ],
     "language": "python",
     "metadata": {},
     "outputs": [
      {
       "metadata": {},
       "output_type": "pyout",
       "prompt_number": 84,
       "text": [
        "# methods for generic function euler19\n",
        "euler19() at In[84]:2"
       ]
      }
     ],
     "prompt_number": 84
    },
    {
     "cell_type": "code",
     "collapsed": false,
     "input": [
      "euler19()"
     ],
     "language": "python",
     "metadata": {},
     "outputs": [
      {
       "metadata": {},
       "output_type": "pyout",
       "prompt_number": 85,
       "text": [
        "171"
       ]
      }
     ],
     "prompt_number": 85
    },
    {
     "cell_type": "code",
     "collapsed": false,
     "input": [
      "my_bench(euler19, \"Problems\", \"euler19()\", 1)"
     ],
     "language": "python",
     "metadata": {},
     "outputs": [
      {
       "metadata": {},
       "output_type": "pyout",
       "prompt_number": 87,
       "text": [
        "1x6 DataFrame:\n",
        "          Benchmark Iterations AverageWall TotalWall  MaxWall  MinWall\n",
        "[1,]    \"euler19()\"          1    0.979616  0.979616 0.979616 0.979616\n"
       ]
      }
     ],
     "prompt_number": 87
    },
    {
     "cell_type": "markdown",
     "metadata": {},
     "source": [
      "## Problem 20\n",
      "\n",
      "$n!$ means $n \u00d7 (n \u2212 1) \u00d7 ... \u00d7 3 \u00d7 2 \u00d7 1$\n",
      "\n",
      "For example, $10! = 10 \u00d7 9 \u00d7 ... \u00d7 3 \u00d7 2 \u00d7 1 = 3628800$,\n",
      "\n",
      "and the sum of the digits in the number $10!$ is $3 + 6 + 2 + 8 + 8 + 0 + 0 = 27$.\n",
      "\n",
      "Find the sum of the digits in the number $100!$"
     ]
    },
    {
     "cell_type": "code",
     "collapsed": false,
     "input": [
      "function euler20()\n",
      "    y = BigInt(100)\n",
      "    x = string(factorial(y))\n",
      "    return sum([int(string(i)) for i in x])\n",
      "end"
     ],
     "language": "python",
     "metadata": {},
     "outputs": [
      {
       "metadata": {},
       "output_type": "pyout",
       "prompt_number": 88,
       "text": [
        "# methods for generic function euler20\n",
        "euler20() at In[88]:2"
       ]
      }
     ],
     "prompt_number": 88
    },
    {
     "cell_type": "code",
     "collapsed": false,
     "input": [
      "euler20()"
     ],
     "language": "python",
     "metadata": {},
     "outputs": [
      {
       "metadata": {},
       "output_type": "pyout",
       "prompt_number": 89,
       "text": [
        "648"
       ]
      }
     ],
     "prompt_number": 89
    },
    {
     "cell_type": "code",
     "collapsed": false,
     "input": [
      "my_bench(euler20, \"Problems\", \"euler20()\", 1000)"
     ],
     "language": "python",
     "metadata": {},
     "outputs": [
      {
       "metadata": {},
       "output_type": "pyout",
       "prompt_number": 90,
       "text": [
        "1x6 DataFrame:\n",
        "          Benchmark Iterations AverageWall TotalWall   MaxWall  MinWall\n",
        "[1,]    \"euler20()\"       1000 0.000161792  0.161792 0.0400202 6.834e-5\n"
       ]
      }
     ],
     "prompt_number": 90
    },
    {
     "cell_type": "markdown",
     "metadata": {},
     "source": [
      "## Problem 21\n",
      "\n",
      "Let $d(n)$ be defined as the sum of proper divisors of n (numbers less than n which divide evenly into n).\n",
      "If $d(a) = b$ and $d(b) = a$, where $a \\ne b$, then a and b are an amicable pair and each of a and b are called amicable numbers.\n",
      "\n",
      "For example, the proper divisors of 220 are 1, 2, 4, 5, 10, 11, 20, 22, 44, 55 and 110; therefore d(220) = 284. The proper divisors of 284 are 1, 2, 4, 71 and 142; so d(284) = 220.\n",
      "\n",
      "Evaluate the sum of all the amicable numbers under 10000."
     ]
    },
    {
     "cell_type": "code",
     "collapsed": false,
     "input": [
      "d_n(n::Int) = sum(divisors(n)[1:end-1])::Int\n",
      "\n",
      "function d_n(ns::Array{Int, 1})\n",
      "    ret::Array{Int, 1}\n",
      "    ret = [d_n(n) for n in ns]\n",
      "    return ret\n",
      "end\n",
      "\n",
      "\n",
      "function euler21()\n",
      "    ans = 0\n",
      "    for i=1:10000\n",
      "        a = d_n(i)\n",
      "        b = d_n(a)\n",
      "        if i == b\n",
      "            if b != a\n",
      "                ans += i\n",
      "            end\n",
      "        end\n",
      "    end\n",
      "    return ans\n",
      "end"
     ],
     "language": "python",
     "metadata": {},
     "outputs": [
      {
       "metadata": {},
       "output_type": "pyout",
       "prompt_number": 91,
       "text": [
        "# methods for generic function euler21\n",
        "euler21() at In[91]:11"
       ]
      }
     ],
     "prompt_number": 91
    },
    {
     "cell_type": "code",
     "collapsed": false,
     "input": [
      "euler21()"
     ],
     "language": "python",
     "metadata": {},
     "outputs": [
      {
       "metadata": {},
       "output_type": "pyout",
       "prompt_number": 92,
       "text": [
        "31626"
       ]
      }
     ],
     "prompt_number": 92
    },
    {
     "cell_type": "code",
     "collapsed": false,
     "input": [
      "my_bench(euler21, \"Problems\", \"euler21()\", 2)"
     ],
     "language": "python",
     "metadata": {},
     "outputs": [
      {
       "metadata": {},
       "output_type": "pyout",
       "prompt_number": 93,
       "text": [
        "1x6 DataFrame:\n",
        "          Benchmark Iterations AverageWall TotalWall MaxWall  MinWall\n",
        "[1,]    \"euler21()\"          2    0.566428   1.13286 0.57488 0.557975\n"
       ]
      }
     ],
     "prompt_number": 93
    },
    {
     "cell_type": "code",
     "collapsed": false,
     "input": [
      "!git add ./Euler--Julia"
     ],
     "language": "python",
     "metadata": {},
     "outputs": [
      {
       "ename": "LoadError",
       "evalue": "syntax: extra token \"add\" after end of expression\nat In[108]:1",
       "output_type": "pyerr",
       "traceback": [
        "syntax: extra token \"add\" after end of expression\nat In[108]:1"
       ]
      }
     ],
     "prompt_number": 108
    },
    {
     "cell_type": "code",
     "collapsed": false,
     "input": [
      "bench = new_bench(21, [1000, 1000, 1000, 4, 1000,\n",
      "                       1000, 10, 100, 90, 15,\n",
      "                       850, 12, 1000, 3, 1000, \n",
      "                       1000, 1000, 1000, 1, 1000, \n",
      "                       2])"
     ],
     "language": "python",
     "metadata": {},
     "outputs": [],
     "prompt_number": "*"
    },
    {
     "cell_type": "code",
     "collapsed": false,
     "input": [],
     "language": "python",
     "metadata": {},
     "outputs": []
    }
   ],
   "metadata": {}
  }
 ]
}